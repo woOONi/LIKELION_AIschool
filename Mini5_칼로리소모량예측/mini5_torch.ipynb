{
  "nbformat": 4,
  "nbformat_minor": 0,
  "metadata": {
    "colab": {
      "provenance": []
    },
    "kernelspec": {
      "name": "python3",
      "display_name": "Python 3"
    },
    "language_info": {
      "name": "python"
    },
    "accelerator": "GPU",
    "gpuClass": "standard"
  },
  "cells": [
    {
      "cell_type": "code",
      "execution_count": null,
      "metadata": {
        "id": "K9zphAw5pu95"
      },
      "outputs": [],
      "source": [
        "import pandas as pd\n",
        "import seaborn as sns\n",
        "import matplotlib.pyplot as plt\n",
        "import numpy as np"
      ]
    },
    {
      "cell_type": "code",
      "source": [
        "# 사용하는 버전\n",
        "print(pd.__version__)\n",
        "print(sns.__version__)"
      ],
      "metadata": {
        "colab": {
          "base_uri": "https://localhost:8080/"
        },
        "id": "EAIPzCuUqK2u",
        "outputId": "0a931cc7-5af3-4714-8fd3-88c56628d60c"
      },
      "execution_count": null,
      "outputs": [
        {
          "output_type": "stream",
          "name": "stdout",
          "text": [
            "1.5.3\n",
            "0.12.2\n"
          ]
        }
      ]
    },
    {
      "cell_type": "markdown",
      "source": [
        "## 데이터 확인"
      ],
      "metadata": {
        "id": "tuNIUvzurTJ3"
      }
    },
    {
      "cell_type": "code",
      "source": [
        "file_path = '.'\n",
        "train = pd.read_csv(f'{file_path}/train.csv')\n",
        "test = pd.read_csv(f'{file_path}/test.csv')\n",
        "display(train.head())\n",
        "display(test.head())\n",
        "train.shape, test.shape"
      ],
      "metadata": {
        "colab": {
          "base_uri": "https://localhost:8080/",
          "height": 477
        },
        "id": "QUB-stdQqNq5",
        "outputId": "fc0ae141-81f3-494e-9e21-69f3744a0052"
      },
      "execution_count": null,
      "outputs": [
        {
          "output_type": "display_data",
          "data": {
            "text/plain": [
              "           ID  Exercise_Duration  Body_Temperature(F)    BPM  Height(Feet)  \\\n",
              "0  TRAIN_0000               26.0                105.6  107.0           5.0   \n",
              "1  TRAIN_0001                7.0                103.3   88.0           6.0   \n",
              "2  TRAIN_0002                7.0                103.3   86.0           6.0   \n",
              "3  TRAIN_0003               17.0                104.0   99.0           5.0   \n",
              "4  TRAIN_0004                9.0                102.7   88.0           5.0   \n",
              "\n",
              "   Height(Remainder_Inches)  Weight(lb)  Weight_Status Gender  Age  \\\n",
              "0                       9.0       154.3  Normal Weight      F   45   \n",
              "1                       6.0       224.9     Overweight      M   50   \n",
              "2                       3.0       218.3     Overweight      M   29   \n",
              "3                       6.0       147.7  Normal Weight      F   33   \n",
              "4                      10.0       169.8  Normal Weight      M   38   \n",
              "\n",
              "   Calories_Burned  \n",
              "0            166.0  \n",
              "1             33.0  \n",
              "2             23.0  \n",
              "3             91.0  \n",
              "4             32.0  "
            ],
            "text/html": [
              "\n",
              "  <div id=\"df-8cf81843-864f-4509-97aa-f7c24de3c548\">\n",
              "    <div class=\"colab-df-container\">\n",
              "      <div>\n",
              "<style scoped>\n",
              "    .dataframe tbody tr th:only-of-type {\n",
              "        vertical-align: middle;\n",
              "    }\n",
              "\n",
              "    .dataframe tbody tr th {\n",
              "        vertical-align: top;\n",
              "    }\n",
              "\n",
              "    .dataframe thead th {\n",
              "        text-align: right;\n",
              "    }\n",
              "</style>\n",
              "<table border=\"1\" class=\"dataframe\">\n",
              "  <thead>\n",
              "    <tr style=\"text-align: right;\">\n",
              "      <th></th>\n",
              "      <th>ID</th>\n",
              "      <th>Exercise_Duration</th>\n",
              "      <th>Body_Temperature(F)</th>\n",
              "      <th>BPM</th>\n",
              "      <th>Height(Feet)</th>\n",
              "      <th>Height(Remainder_Inches)</th>\n",
              "      <th>Weight(lb)</th>\n",
              "      <th>Weight_Status</th>\n",
              "      <th>Gender</th>\n",
              "      <th>Age</th>\n",
              "      <th>Calories_Burned</th>\n",
              "    </tr>\n",
              "  </thead>\n",
              "  <tbody>\n",
              "    <tr>\n",
              "      <th>0</th>\n",
              "      <td>TRAIN_0000</td>\n",
              "      <td>26.0</td>\n",
              "      <td>105.6</td>\n",
              "      <td>107.0</td>\n",
              "      <td>5.0</td>\n",
              "      <td>9.0</td>\n",
              "      <td>154.3</td>\n",
              "      <td>Normal Weight</td>\n",
              "      <td>F</td>\n",
              "      <td>45</td>\n",
              "      <td>166.0</td>\n",
              "    </tr>\n",
              "    <tr>\n",
              "      <th>1</th>\n",
              "      <td>TRAIN_0001</td>\n",
              "      <td>7.0</td>\n",
              "      <td>103.3</td>\n",
              "      <td>88.0</td>\n",
              "      <td>6.0</td>\n",
              "      <td>6.0</td>\n",
              "      <td>224.9</td>\n",
              "      <td>Overweight</td>\n",
              "      <td>M</td>\n",
              "      <td>50</td>\n",
              "      <td>33.0</td>\n",
              "    </tr>\n",
              "    <tr>\n",
              "      <th>2</th>\n",
              "      <td>TRAIN_0002</td>\n",
              "      <td>7.0</td>\n",
              "      <td>103.3</td>\n",
              "      <td>86.0</td>\n",
              "      <td>6.0</td>\n",
              "      <td>3.0</td>\n",
              "      <td>218.3</td>\n",
              "      <td>Overweight</td>\n",
              "      <td>M</td>\n",
              "      <td>29</td>\n",
              "      <td>23.0</td>\n",
              "    </tr>\n",
              "    <tr>\n",
              "      <th>3</th>\n",
              "      <td>TRAIN_0003</td>\n",
              "      <td>17.0</td>\n",
              "      <td>104.0</td>\n",
              "      <td>99.0</td>\n",
              "      <td>5.0</td>\n",
              "      <td>6.0</td>\n",
              "      <td>147.7</td>\n",
              "      <td>Normal Weight</td>\n",
              "      <td>F</td>\n",
              "      <td>33</td>\n",
              "      <td>91.0</td>\n",
              "    </tr>\n",
              "    <tr>\n",
              "      <th>4</th>\n",
              "      <td>TRAIN_0004</td>\n",
              "      <td>9.0</td>\n",
              "      <td>102.7</td>\n",
              "      <td>88.0</td>\n",
              "      <td>5.0</td>\n",
              "      <td>10.0</td>\n",
              "      <td>169.8</td>\n",
              "      <td>Normal Weight</td>\n",
              "      <td>M</td>\n",
              "      <td>38</td>\n",
              "      <td>32.0</td>\n",
              "    </tr>\n",
              "  </tbody>\n",
              "</table>\n",
              "</div>\n",
              "      <button class=\"colab-df-convert\" onclick=\"convertToInteractive('df-8cf81843-864f-4509-97aa-f7c24de3c548')\"\n",
              "              title=\"Convert this dataframe to an interactive table.\"\n",
              "              style=\"display:none;\">\n",
              "        \n",
              "  <svg xmlns=\"http://www.w3.org/2000/svg\" height=\"24px\"viewBox=\"0 0 24 24\"\n",
              "       width=\"24px\">\n",
              "    <path d=\"M0 0h24v24H0V0z\" fill=\"none\"/>\n",
              "    <path d=\"M18.56 5.44l.94 2.06.94-2.06 2.06-.94-2.06-.94-.94-2.06-.94 2.06-2.06.94zm-11 1L8.5 8.5l.94-2.06 2.06-.94-2.06-.94L8.5 2.5l-.94 2.06-2.06.94zm10 10l.94 2.06.94-2.06 2.06-.94-2.06-.94-.94-2.06-.94 2.06-2.06.94z\"/><path d=\"M17.41 7.96l-1.37-1.37c-.4-.4-.92-.59-1.43-.59-.52 0-1.04.2-1.43.59L10.3 9.45l-7.72 7.72c-.78.78-.78 2.05 0 2.83L4 21.41c.39.39.9.59 1.41.59.51 0 1.02-.2 1.41-.59l7.78-7.78 2.81-2.81c.8-.78.8-2.07 0-2.86zM5.41 20L4 18.59l7.72-7.72 1.47 1.35L5.41 20z\"/>\n",
              "  </svg>\n",
              "      </button>\n",
              "      \n",
              "  <style>\n",
              "    .colab-df-container {\n",
              "      display:flex;\n",
              "      flex-wrap:wrap;\n",
              "      gap: 12px;\n",
              "    }\n",
              "\n",
              "    .colab-df-convert {\n",
              "      background-color: #E8F0FE;\n",
              "      border: none;\n",
              "      border-radius: 50%;\n",
              "      cursor: pointer;\n",
              "      display: none;\n",
              "      fill: #1967D2;\n",
              "      height: 32px;\n",
              "      padding: 0 0 0 0;\n",
              "      width: 32px;\n",
              "    }\n",
              "\n",
              "    .colab-df-convert:hover {\n",
              "      background-color: #E2EBFA;\n",
              "      box-shadow: 0px 1px 2px rgba(60, 64, 67, 0.3), 0px 1px 3px 1px rgba(60, 64, 67, 0.15);\n",
              "      fill: #174EA6;\n",
              "    }\n",
              "\n",
              "    [theme=dark] .colab-df-convert {\n",
              "      background-color: #3B4455;\n",
              "      fill: #D2E3FC;\n",
              "    }\n",
              "\n",
              "    [theme=dark] .colab-df-convert:hover {\n",
              "      background-color: #434B5C;\n",
              "      box-shadow: 0px 1px 3px 1px rgba(0, 0, 0, 0.15);\n",
              "      filter: drop-shadow(0px 1px 2px rgba(0, 0, 0, 0.3));\n",
              "      fill: #FFFFFF;\n",
              "    }\n",
              "  </style>\n",
              "\n",
              "      <script>\n",
              "        const buttonEl =\n",
              "          document.querySelector('#df-8cf81843-864f-4509-97aa-f7c24de3c548 button.colab-df-convert');\n",
              "        buttonEl.style.display =\n",
              "          google.colab.kernel.accessAllowed ? 'block' : 'none';\n",
              "\n",
              "        async function convertToInteractive(key) {\n",
              "          const element = document.querySelector('#df-8cf81843-864f-4509-97aa-f7c24de3c548');\n",
              "          const dataTable =\n",
              "            await google.colab.kernel.invokeFunction('convertToInteractive',\n",
              "                                                     [key], {});\n",
              "          if (!dataTable) return;\n",
              "\n",
              "          const docLinkHtml = 'Like what you see? Visit the ' +\n",
              "            '<a target=\"_blank\" href=https://colab.research.google.com/notebooks/data_table.ipynb>data table notebook</a>'\n",
              "            + ' to learn more about interactive tables.';\n",
              "          element.innerHTML = '';\n",
              "          dataTable['output_type'] = 'display_data';\n",
              "          await google.colab.output.renderOutput(dataTable, element);\n",
              "          const docLink = document.createElement('div');\n",
              "          docLink.innerHTML = docLinkHtml;\n",
              "          element.appendChild(docLink);\n",
              "        }\n",
              "      </script>\n",
              "    </div>\n",
              "  </div>\n",
              "  "
            ]
          },
          "metadata": {}
        },
        {
          "output_type": "display_data",
          "data": {
            "text/plain": [
              "          ID  Exercise_Duration  Body_Temperature(F)    BPM  Height(Feet)  \\\n",
              "0  TEST_0000               26.0                105.1  107.0           5.0   \n",
              "1  TEST_0001               29.0                104.9  111.0           6.0   \n",
              "2  TEST_0002               11.0                104.0   90.0           5.0   \n",
              "3  TEST_0003               24.0                105.4  108.0           5.0   \n",
              "4  TEST_0004               29.0                106.0  116.0           5.0   \n",
              "\n",
              "   Height(Remainder_Inches)  Weight(lb)  Weight_Status Gender  Age  \n",
              "0                       1.0       114.6  Normal Weight      F   45  \n",
              "1                       2.0       198.4     Overweight      M   21  \n",
              "2                       9.0       169.8  Normal Weight      M   58  \n",
              "3                      12.0       196.2     Overweight      M   35  \n",
              "4                       7.0       147.7  Normal Weight      F   67  "
            ],
            "text/html": [
              "\n",
              "  <div id=\"df-f6dac5e0-bfc2-4c3a-a2ef-d07edda54155\">\n",
              "    <div class=\"colab-df-container\">\n",
              "      <div>\n",
              "<style scoped>\n",
              "    .dataframe tbody tr th:only-of-type {\n",
              "        vertical-align: middle;\n",
              "    }\n",
              "\n",
              "    .dataframe tbody tr th {\n",
              "        vertical-align: top;\n",
              "    }\n",
              "\n",
              "    .dataframe thead th {\n",
              "        text-align: right;\n",
              "    }\n",
              "</style>\n",
              "<table border=\"1\" class=\"dataframe\">\n",
              "  <thead>\n",
              "    <tr style=\"text-align: right;\">\n",
              "      <th></th>\n",
              "      <th>ID</th>\n",
              "      <th>Exercise_Duration</th>\n",
              "      <th>Body_Temperature(F)</th>\n",
              "      <th>BPM</th>\n",
              "      <th>Height(Feet)</th>\n",
              "      <th>Height(Remainder_Inches)</th>\n",
              "      <th>Weight(lb)</th>\n",
              "      <th>Weight_Status</th>\n",
              "      <th>Gender</th>\n",
              "      <th>Age</th>\n",
              "    </tr>\n",
              "  </thead>\n",
              "  <tbody>\n",
              "    <tr>\n",
              "      <th>0</th>\n",
              "      <td>TEST_0000</td>\n",
              "      <td>26.0</td>\n",
              "      <td>105.1</td>\n",
              "      <td>107.0</td>\n",
              "      <td>5.0</td>\n",
              "      <td>1.0</td>\n",
              "      <td>114.6</td>\n",
              "      <td>Normal Weight</td>\n",
              "      <td>F</td>\n",
              "      <td>45</td>\n",
              "    </tr>\n",
              "    <tr>\n",
              "      <th>1</th>\n",
              "      <td>TEST_0001</td>\n",
              "      <td>29.0</td>\n",
              "      <td>104.9</td>\n",
              "      <td>111.0</td>\n",
              "      <td>6.0</td>\n",
              "      <td>2.0</td>\n",
              "      <td>198.4</td>\n",
              "      <td>Overweight</td>\n",
              "      <td>M</td>\n",
              "      <td>21</td>\n",
              "    </tr>\n",
              "    <tr>\n",
              "      <th>2</th>\n",
              "      <td>TEST_0002</td>\n",
              "      <td>11.0</td>\n",
              "      <td>104.0</td>\n",
              "      <td>90.0</td>\n",
              "      <td>5.0</td>\n",
              "      <td>9.0</td>\n",
              "      <td>169.8</td>\n",
              "      <td>Normal Weight</td>\n",
              "      <td>M</td>\n",
              "      <td>58</td>\n",
              "    </tr>\n",
              "    <tr>\n",
              "      <th>3</th>\n",
              "      <td>TEST_0003</td>\n",
              "      <td>24.0</td>\n",
              "      <td>105.4</td>\n",
              "      <td>108.0</td>\n",
              "      <td>5.0</td>\n",
              "      <td>12.0</td>\n",
              "      <td>196.2</td>\n",
              "      <td>Overweight</td>\n",
              "      <td>M</td>\n",
              "      <td>35</td>\n",
              "    </tr>\n",
              "    <tr>\n",
              "      <th>4</th>\n",
              "      <td>TEST_0004</td>\n",
              "      <td>29.0</td>\n",
              "      <td>106.0</td>\n",
              "      <td>116.0</td>\n",
              "      <td>5.0</td>\n",
              "      <td>7.0</td>\n",
              "      <td>147.7</td>\n",
              "      <td>Normal Weight</td>\n",
              "      <td>F</td>\n",
              "      <td>67</td>\n",
              "    </tr>\n",
              "  </tbody>\n",
              "</table>\n",
              "</div>\n",
              "      <button class=\"colab-df-convert\" onclick=\"convertToInteractive('df-f6dac5e0-bfc2-4c3a-a2ef-d07edda54155')\"\n",
              "              title=\"Convert this dataframe to an interactive table.\"\n",
              "              style=\"display:none;\">\n",
              "        \n",
              "  <svg xmlns=\"http://www.w3.org/2000/svg\" height=\"24px\"viewBox=\"0 0 24 24\"\n",
              "       width=\"24px\">\n",
              "    <path d=\"M0 0h24v24H0V0z\" fill=\"none\"/>\n",
              "    <path d=\"M18.56 5.44l.94 2.06.94-2.06 2.06-.94-2.06-.94-.94-2.06-.94 2.06-2.06.94zm-11 1L8.5 8.5l.94-2.06 2.06-.94-2.06-.94L8.5 2.5l-.94 2.06-2.06.94zm10 10l.94 2.06.94-2.06 2.06-.94-2.06-.94-.94-2.06-.94 2.06-2.06.94z\"/><path d=\"M17.41 7.96l-1.37-1.37c-.4-.4-.92-.59-1.43-.59-.52 0-1.04.2-1.43.59L10.3 9.45l-7.72 7.72c-.78.78-.78 2.05 0 2.83L4 21.41c.39.39.9.59 1.41.59.51 0 1.02-.2 1.41-.59l7.78-7.78 2.81-2.81c.8-.78.8-2.07 0-2.86zM5.41 20L4 18.59l7.72-7.72 1.47 1.35L5.41 20z\"/>\n",
              "  </svg>\n",
              "      </button>\n",
              "      \n",
              "  <style>\n",
              "    .colab-df-container {\n",
              "      display:flex;\n",
              "      flex-wrap:wrap;\n",
              "      gap: 12px;\n",
              "    }\n",
              "\n",
              "    .colab-df-convert {\n",
              "      background-color: #E8F0FE;\n",
              "      border: none;\n",
              "      border-radius: 50%;\n",
              "      cursor: pointer;\n",
              "      display: none;\n",
              "      fill: #1967D2;\n",
              "      height: 32px;\n",
              "      padding: 0 0 0 0;\n",
              "      width: 32px;\n",
              "    }\n",
              "\n",
              "    .colab-df-convert:hover {\n",
              "      background-color: #E2EBFA;\n",
              "      box-shadow: 0px 1px 2px rgba(60, 64, 67, 0.3), 0px 1px 3px 1px rgba(60, 64, 67, 0.15);\n",
              "      fill: #174EA6;\n",
              "    }\n",
              "\n",
              "    [theme=dark] .colab-df-convert {\n",
              "      background-color: #3B4455;\n",
              "      fill: #D2E3FC;\n",
              "    }\n",
              "\n",
              "    [theme=dark] .colab-df-convert:hover {\n",
              "      background-color: #434B5C;\n",
              "      box-shadow: 0px 1px 3px 1px rgba(0, 0, 0, 0.15);\n",
              "      filter: drop-shadow(0px 1px 2px rgba(0, 0, 0, 0.3));\n",
              "      fill: #FFFFFF;\n",
              "    }\n",
              "  </style>\n",
              "\n",
              "      <script>\n",
              "        const buttonEl =\n",
              "          document.querySelector('#df-f6dac5e0-bfc2-4c3a-a2ef-d07edda54155 button.colab-df-convert');\n",
              "        buttonEl.style.display =\n",
              "          google.colab.kernel.accessAllowed ? 'block' : 'none';\n",
              "\n",
              "        async function convertToInteractive(key) {\n",
              "          const element = document.querySelector('#df-f6dac5e0-bfc2-4c3a-a2ef-d07edda54155');\n",
              "          const dataTable =\n",
              "            await google.colab.kernel.invokeFunction('convertToInteractive',\n",
              "                                                     [key], {});\n",
              "          if (!dataTable) return;\n",
              "\n",
              "          const docLinkHtml = 'Like what you see? Visit the ' +\n",
              "            '<a target=\"_blank\" href=https://colab.research.google.com/notebooks/data_table.ipynb>data table notebook</a>'\n",
              "            + ' to learn more about interactive tables.';\n",
              "          element.innerHTML = '';\n",
              "          dataTable['output_type'] = 'display_data';\n",
              "          await google.colab.output.renderOutput(dataTable, element);\n",
              "          const docLink = document.createElement('div');\n",
              "          docLink.innerHTML = docLinkHtml;\n",
              "          element.appendChild(docLink);\n",
              "        }\n",
              "      </script>\n",
              "    </div>\n",
              "  </div>\n",
              "  "
            ]
          },
          "metadata": {}
        },
        {
          "output_type": "execute_result",
          "data": {
            "text/plain": [
              "((7500, 11), (7500, 10))"
            ]
          },
          "metadata": {},
          "execution_count": 3
        }
      ]
    },
    {
      "cell_type": "code",
      "source": [
        "# y 컬럼!\n",
        "set(train.columns) - set(test.columns)"
      ],
      "metadata": {
        "colab": {
          "base_uri": "https://localhost:8080/"
        },
        "id": "HUTCruGPraVJ",
        "outputId": "000278f8-aad6-4ef1-eb07-70633c8a71ab"
      },
      "execution_count": null,
      "outputs": [
        {
          "output_type": "execute_result",
          "data": {
            "text/plain": [
              "{'Calories_Burned'}"
            ]
          },
          "metadata": {},
          "execution_count": 4
        }
      ]
    },
    {
      "cell_type": "code",
      "source": [
        "train.info()"
      ],
      "metadata": {
        "colab": {
          "base_uri": "https://localhost:8080/"
        },
        "id": "Y7hnPGn4su27",
        "outputId": "9b1ae519-250f-470b-9e02-9d9fbe18571f"
      },
      "execution_count": null,
      "outputs": [
        {
          "output_type": "stream",
          "name": "stdout",
          "text": [
            "<class 'pandas.core.frame.DataFrame'>\n",
            "RangeIndex: 7500 entries, 0 to 7499\n",
            "Data columns (total 11 columns):\n",
            " #   Column                    Non-Null Count  Dtype  \n",
            "---  ------                    --------------  -----  \n",
            " 0   ID                        7500 non-null   object \n",
            " 1   Exercise_Duration         7500 non-null   float64\n",
            " 2   Body_Temperature(F)       7500 non-null   float64\n",
            " 3   BPM                       7500 non-null   float64\n",
            " 4   Height(Feet)              7500 non-null   float64\n",
            " 5   Height(Remainder_Inches)  7500 non-null   float64\n",
            " 6   Weight(lb)                7500 non-null   float64\n",
            " 7   Weight_Status             7500 non-null   object \n",
            " 8   Gender                    7500 non-null   object \n",
            " 9   Age                       7500 non-null   int64  \n",
            " 10  Calories_Burned           7500 non-null   float64\n",
            "dtypes: float64(7), int64(1), object(3)\n",
            "memory usage: 644.7+ KB\n"
          ]
        }
      ]
    },
    {
      "cell_type": "code",
      "source": [
        "test.info()"
      ],
      "metadata": {
        "colab": {
          "base_uri": "https://localhost:8080/"
        },
        "id": "A28_GSx2tINc",
        "outputId": "9d2402c5-c0a0-48f2-c833-321fd786ff99"
      },
      "execution_count": null,
      "outputs": [
        {
          "output_type": "stream",
          "name": "stdout",
          "text": [
            "<class 'pandas.core.frame.DataFrame'>\n",
            "RangeIndex: 7500 entries, 0 to 7499\n",
            "Data columns (total 10 columns):\n",
            " #   Column                    Non-Null Count  Dtype  \n",
            "---  ------                    --------------  -----  \n",
            " 0   ID                        7500 non-null   object \n",
            " 1   Exercise_Duration         7500 non-null   float64\n",
            " 2   Body_Temperature(F)       7500 non-null   float64\n",
            " 3   BPM                       7500 non-null   float64\n",
            " 4   Height(Feet)              7500 non-null   float64\n",
            " 5   Height(Remainder_Inches)  7500 non-null   float64\n",
            " 6   Weight(lb)                7500 non-null   float64\n",
            " 7   Weight_Status             7500 non-null   object \n",
            " 8   Gender                    7500 non-null   object \n",
            " 9   Age                       7500 non-null   int64  \n",
            "dtypes: float64(6), int64(1), object(3)\n",
            "memory usage: 586.1+ KB\n"
          ]
        }
      ]
    },
    {
      "cell_type": "markdown",
      "source": [
        "### 데이터 타입 변경"
      ],
      "metadata": {
        "id": "iYlHJmPGXyIy"
      }
    },
    {
      "cell_type": "code",
      "source": [
        "train['Weight_Status'] = train['Weight_Status'].astype('category')\n",
        "train['Gender'] = train['Gender'].astype('category')\n",
        "\n",
        "test['Weight_Status'] = test['Weight_Status'].astype('category')\n",
        "test['Gender'] = test['Gender'].astype('category')\n",
        "\n",
        "display(train.info())\n",
        "display(test.info())"
      ],
      "metadata": {
        "colab": {
          "base_uri": "https://localhost:8080/",
          "height": 678
        },
        "id": "Qnh8wseaXxuU",
        "outputId": "7da11eee-87ef-4bed-9145-5653fa5760c9"
      },
      "execution_count": null,
      "outputs": [
        {
          "output_type": "stream",
          "name": "stdout",
          "text": [
            "<class 'pandas.core.frame.DataFrame'>\n",
            "RangeIndex: 7500 entries, 0 to 7499\n",
            "Data columns (total 11 columns):\n",
            " #   Column                    Non-Null Count  Dtype   \n",
            "---  ------                    --------------  -----   \n",
            " 0   ID                        7500 non-null   object  \n",
            " 1   Exercise_Duration         7500 non-null   float64 \n",
            " 2   Body_Temperature(F)       7500 non-null   float64 \n",
            " 3   BPM                       7500 non-null   float64 \n",
            " 4   Height(Feet)              7500 non-null   float64 \n",
            " 5   Height(Remainder_Inches)  7500 non-null   float64 \n",
            " 6   Weight(lb)                7500 non-null   float64 \n",
            " 7   Weight_Status             7500 non-null   category\n",
            " 8   Gender                    7500 non-null   category\n",
            " 9   Age                       7500 non-null   int64   \n",
            " 10  Calories_Burned           7500 non-null   float64 \n",
            "dtypes: category(2), float64(7), int64(1), object(1)\n",
            "memory usage: 542.4+ KB\n"
          ]
        },
        {
          "output_type": "display_data",
          "data": {
            "text/plain": [
              "None"
            ]
          },
          "metadata": {}
        },
        {
          "output_type": "stream",
          "name": "stdout",
          "text": [
            "<class 'pandas.core.frame.DataFrame'>\n",
            "RangeIndex: 7500 entries, 0 to 7499\n",
            "Data columns (total 10 columns):\n",
            " #   Column                    Non-Null Count  Dtype   \n",
            "---  ------                    --------------  -----   \n",
            " 0   ID                        7500 non-null   object  \n",
            " 1   Exercise_Duration         7500 non-null   float64 \n",
            " 2   Body_Temperature(F)       7500 non-null   float64 \n",
            " 3   BPM                       7500 non-null   float64 \n",
            " 4   Height(Feet)              7500 non-null   float64 \n",
            " 5   Height(Remainder_Inches)  7500 non-null   float64 \n",
            " 6   Weight(lb)                7500 non-null   float64 \n",
            " 7   Weight_Status             7500 non-null   category\n",
            " 8   Gender                    7500 non-null   category\n",
            " 9   Age                       7500 non-null   int64   \n",
            "dtypes: category(2), float64(6), int64(1), object(1)\n",
            "memory usage: 483.8+ KB\n"
          ]
        },
        {
          "output_type": "display_data",
          "data": {
            "text/plain": [
              "None"
            ]
          },
          "metadata": {}
        }
      ]
    },
    {
      "cell_type": "code",
      "source": [
        "train.hist(bins = 50, figsize=(20,8));"
      ],
      "metadata": {
        "colab": {
          "base_uri": "https://localhost:8080/",
          "height": 444
        },
        "id": "rFl6JLoFtJpg",
        "outputId": "c69e6306-c34c-4a62-9072-5e2e6bd11959"
      },
      "execution_count": null,
      "outputs": [
        {
          "output_type": "display_data",
          "data": {
            "text/plain": [
              "<Figure size 2000x800 with 9 Axes>"
            ],
            "image/png": "[encoded data removed]"
          },
          "metadata": {}
        }
      ]
    },
    {
      "cell_type": "code",
      "source": [
        "test.hist(bins = 50, figsize=(20,8));"
      ],
      "metadata": {
        "colab": {
          "base_uri": "https://localhost:8080/",
          "height": 447
        },
        "id": "QV5enYVIS0ox",
        "outputId": "6b63d65b-07be-4411-8a10-4cc56d0fe5b4"
      },
      "execution_count": null,
      "outputs": [
        {
          "output_type": "display_data",
          "data": {
            "text/plain": [
              "<Figure size 2000x800 with 9 Axes>"
            ],
            "image/png": "[encoded data removed]"
          },
          "metadata": {}
        }
      ]
    },
    {
      "cell_type": "markdown",
      "source": [
        "train, test 데이터 둘 다 비슷한 양상을 보이고 있음"
      ],
      "metadata": {
        "id": "Nf1puHjOS65F"
      }
    },
    {
      "cell_type": "code",
      "source": [
        "train['Weight_Status'].value_counts(1)"
      ],
      "metadata": {
        "colab": {
          "base_uri": "https://localhost:8080/"
        },
        "id": "UqhW6DT9tM_t",
        "outputId": "0eb7ab9c-b433-4400-8f4e-8c7f33c9b9bb"
      },
      "execution_count": null,
      "outputs": [
        {
          "output_type": "execute_result",
          "data": {
            "text/plain": [
              "Normal Weight    0.624133\n",
              "Overweight       0.348533\n",
              "Obese            0.027333\n",
              "Name: Weight_Status, dtype: float64"
            ]
          },
          "metadata": {},
          "execution_count": 10
        }
      ]
    },
    {
      "cell_type": "code",
      "source": [
        "train['Gender'].value_counts(1)"
      ],
      "metadata": {
        "colab": {
          "base_uri": "https://localhost:8080/"
        },
        "id": "2ADGGM_mtfDS",
        "outputId": "e67cca41-a494-44f2-fcd8-1961547b4a82"
      },
      "execution_count": null,
      "outputs": [
        {
          "output_type": "execute_result",
          "data": {
            "text/plain": [
              "F    0.502533\n",
              "M    0.497467\n",
              "Name: Gender, dtype: float64"
            ]
          },
          "metadata": {},
          "execution_count": 11
        }
      ]
    },
    {
      "cell_type": "markdown",
      "source": [
        "### 결측치 확인"
      ],
      "metadata": {
        "id": "utqCrt_UT7tm"
      }
    },
    {
      "cell_type": "code",
      "source": [
        "train.isnull().sum()"
      ],
      "metadata": {
        "colab": {
          "base_uri": "https://localhost:8080/"
        },
        "id": "5NA7F_W6tjW5",
        "outputId": "e0721894-6884-427e-c099-765b31f9f358"
      },
      "execution_count": null,
      "outputs": [
        {
          "output_type": "execute_result",
          "data": {
            "text/plain": [
              "ID                          0\n",
              "Exercise_Duration           0\n",
              "Body_Temperature(F)         0\n",
              "BPM                         0\n",
              "Height(Feet)                0\n",
              "Height(Remainder_Inches)    0\n",
              "Weight(lb)                  0\n",
              "Weight_Status               0\n",
              "Gender                      0\n",
              "Age                         0\n",
              "Calories_Burned             0\n",
              "dtype: int64"
            ]
          },
          "metadata": {},
          "execution_count": 12
        }
      ]
    },
    {
      "cell_type": "code",
      "source": [
        "test.isnull().sum()"
      ],
      "metadata": {
        "colab": {
          "base_uri": "https://localhost:8080/"
        },
        "id": "kpyGq69Mt5bV",
        "outputId": "eba16af7-c763-4266-9ca7-75e5f5099a1e"
      },
      "execution_count": null,
      "outputs": [
        {
          "output_type": "execute_result",
          "data": {
            "text/plain": [
              "ID                          0\n",
              "Exercise_Duration           0\n",
              "Body_Temperature(F)         0\n",
              "BPM                         0\n",
              "Height(Feet)                0\n",
              "Height(Remainder_Inches)    0\n",
              "Weight(lb)                  0\n",
              "Weight_Status               0\n",
              "Gender                      0\n",
              "Age                         0\n",
              "dtype: int64"
            ]
          },
          "metadata": {},
          "execution_count": 13
        }
      ]
    },
    {
      "cell_type": "markdown",
      "source": [
        "### 요약 확인"
      ],
      "metadata": {
        "id": "yEnWm_zaT92G"
      }
    },
    {
      "cell_type": "code",
      "source": [
        "train.describe()"
      ],
      "metadata": {
        "colab": {
          "base_uri": "https://localhost:8080/",
          "height": 364
        },
        "id": "Pb7gSWVaT4ma",
        "outputId": "ede5ad36-772e-4c60-a4ff-fa645cec87aa"
      },
      "execution_count": null,
      "outputs": [
        {
          "output_type": "execute_result",
          "data": {
            "text/plain": [
              "       Exercise_Duration  Body_Temperature(F)          BPM  Height(Feet)  \\\n",
              "count          7500.0000          7500.000000  7500.000000   7500.000000   \n",
              "mean             15.5012           104.033573    95.498133      5.248800   \n",
              "std               8.3553             1.412845     9.587331      0.556663   \n",
              "min               1.0000            98.800000    69.000000      4.000000   \n",
              "25%               8.0000           103.300000    88.000000      5.000000   \n",
              "50%              15.0000           104.400000    95.000000      5.000000   \n",
              "75%              23.0000           105.100000   103.000000      6.000000   \n",
              "max              30.0000           106.700000   128.000000      7.000000   \n",
              "\n",
              "       Height(Remainder_Inches)   Weight(lb)          Age  Calories_Burned  \n",
              "count               7500.000000  7500.000000  7500.000000      7500.000000  \n",
              "mean                   5.717600   165.361187    42.636000        89.373467  \n",
              "std                    3.497315    33.308136    16.883188        62.817086  \n",
              "min                    0.000000    79.400000    20.000000         1.000000  \n",
              "25%                    3.000000   138.900000    28.000000        35.000000  \n",
              "50%                    6.000000   163.100000    39.000000        77.000000  \n",
              "75%                    9.000000   191.800000    56.000000       138.000000  \n",
              "max                   12.000000   291.000000    79.000000       300.000000  "
            ],
            "text/html": [
              "\n",
              "  <div id=\"df-e7204c6c-f958-4ec7-a64a-c35bef32dea1\">\n",
              "    <div class=\"colab-df-container\">\n",
              "      <div>\n",
              "<style scoped>\n",
              "    .dataframe tbody tr th:only-of-type {\n",
              "        vertical-align: middle;\n",
              "    }\n",
              "\n",
              "    .dataframe tbody tr th {\n",
              "        vertical-align: top;\n",
              "    }\n",
              "\n",
              "    .dataframe thead th {\n",
              "        text-align: right;\n",
              "    }\n",
              "</style>\n",
              "<table border=\"1\" class=\"dataframe\">\n",
              "  <thead>\n",
              "    <tr style=\"text-align: right;\">\n",
              "      <th></th>\n",
              "      <th>Exercise_Duration</th>\n",
              "      <th>Body_Temperature(F)</th>\n",
              "      <th>BPM</th>\n",
              "      <th>Height(Feet)</th>\n",
              "      <th>Height(Remainder_Inches)</th>\n",
              "      <th>Weight(lb)</th>\n",
              "      <th>Age</th>\n",
              "      <th>Calories_Burned</th>\n",
              "    </tr>\n",
              "  </thead>\n",
              "  <tbody>\n",
              "    <tr>\n",
              "      <th>count</th>\n",
              "      <td>7500.0000</td>\n",
              "      <td>7500.000000</td>\n",
              "      <td>7500.000000</td>\n",
              "      <td>7500.000000</td>\n",
              "      <td>7500.000000</td>\n",
              "      <td>7500.000000</td>\n",
              "      <td>7500.000000</td>\n",
              "      <td>7500.000000</td>\n",
              "    </tr>\n",
              "    <tr>\n",
              "      <th>mean</th>\n",
              "      <td>15.5012</td>\n",
              "      <td>104.033573</td>\n",
              "      <td>95.498133</td>\n",
              "      <td>5.248800</td>\n",
              "      <td>5.717600</td>\n",
              "      <td>165.361187</td>\n",
              "      <td>42.636000</td>\n",
              "      <td>89.373467</td>\n",
              "    </tr>\n",
              "    <tr>\n",
              "      <th>std</th>\n",
              "      <td>8.3553</td>\n",
              "      <td>1.412845</td>\n",
              "      <td>9.587331</td>\n",
              "      <td>0.556663</td>\n",
              "      <td>3.497315</td>\n",
              "      <td>33.308136</td>\n",
              "      <td>16.883188</td>\n",
              "      <td>62.817086</td>\n",
              "    </tr>\n",
              "    <tr>\n",
              "      <th>min</th>\n",
              "      <td>1.0000</td>\n",
              "      <td>98.800000</td>\n",
              "      <td>69.000000</td>\n",
              "      <td>4.000000</td>\n",
              "      <td>0.000000</td>\n",
              "      <td>79.400000</td>\n",
              "      <td>20.000000</td>\n",
              "      <td>1.000000</td>\n",
              "    </tr>\n",
              "    <tr>\n",
              "      <th>25%</th>\n",
              "      <td>8.0000</td>\n",
              "      <td>103.300000</td>\n",
              "      <td>88.000000</td>\n",
              "      <td>5.000000</td>\n",
              "      <td>3.000000</td>\n",
              "      <td>138.900000</td>\n",
              "      <td>28.000000</td>\n",
              "      <td>35.000000</td>\n",
              "    </tr>\n",
              "    <tr>\n",
              "      <th>50%</th>\n",
              "      <td>15.0000</td>\n",
              "      <td>104.400000</td>\n",
              "      <td>95.000000</td>\n",
              "      <td>5.000000</td>\n",
              "      <td>6.000000</td>\n",
              "      <td>163.100000</td>\n",
              "      <td>39.000000</td>\n",
              "      <td>77.000000</td>\n",
              "    </tr>\n",
              "    <tr>\n",
              "      <th>75%</th>\n",
              "      <td>23.0000</td>\n",
              "      <td>105.100000</td>\n",
              "      <td>103.000000</td>\n",
              "      <td>6.000000</td>\n",
              "      <td>9.000000</td>\n",
              "      <td>191.800000</td>\n",
              "      <td>56.000000</td>\n",
              "      <td>138.000000</td>\n",
              "    </tr>\n",
              "    <tr>\n",
              "      <th>max</th>\n",
              "      <td>30.0000</td>\n",
              "      <td>106.700000</td>\n",
              "      <td>128.000000</td>\n",
              "      <td>7.000000</td>\n",
              "      <td>12.000000</td>\n",
              "      <td>291.000000</td>\n",
              "      <td>79.000000</td>\n",
              "      <td>300.000000</td>\n",
              "    </tr>\n",
              "  </tbody>\n",
              "</table>\n",
              "</div>\n",
              "      <button class=\"colab-df-convert\" onclick=\"convertToInteractive('df-e7204c6c-f958-4ec7-a64a-c35bef32dea1')\"\n",
              "              title=\"Convert this dataframe to an interactive table.\"\n",
              "              style=\"display:none;\">\n",
              "        \n",
              "  <svg xmlns=\"http://www.w3.org/2000/svg\" height=\"24px\"viewBox=\"0 0 24 24\"\n",
              "       width=\"24px\">\n",
              "    <path d=\"M0 0h24v24H0V0z\" fill=\"none\"/>\n",
              "    <path d=\"M18.56 5.44l.94 2.06.94-2.06 2.06-.94-2.06-.94-.94-2.06-.94 2.06-2.06.94zm-11 1L8.5 8.5l.94-2.06 2.06-.94-2.06-.94L8.5 2.5l-.94 2.06-2.06.94zm10 10l.94 2.06.94-2.06 2.06-.94-2.06-.94-.94-2.06-.94 2.06-2.06.94z\"/><path d=\"M17.41 7.96l-1.37-1.37c-.4-.4-.92-.59-1.43-.59-.52 0-1.04.2-1.43.59L10.3 9.45l-7.72 7.72c-.78.78-.78 2.05 0 2.83L4 21.41c.39.39.9.59 1.41.59.51 0 1.02-.2 1.41-.59l7.78-7.78 2.81-2.81c.8-.78.8-2.07 0-2.86zM5.41 20L4 18.59l7.72-7.72 1.47 1.35L5.41 20z\"/>\n",
              "  </svg>\n",
              "      </button>\n",
              "      \n",
              "  <style>\n",
              "    .colab-df-container {\n",
              "      display:flex;\n",
              "      flex-wrap:wrap;\n",
              "      gap: 12px;\n",
              "    }\n",
              "\n",
              "    .colab-df-convert {\n",
              "      background-color: #E8F0FE;\n",
              "      border: none;\n",
              "      border-radius: 50%;\n",
              "      cursor: pointer;\n",
              "      display: none;\n",
              "      fill: #1967D2;\n",
              "      height: 32px;\n",
              "      padding: 0 0 0 0;\n",
              "      width: 32px;\n",
              "    }\n",
              "\n",
              "    .colab-df-convert:hover {\n",
              "      background-color: #E2EBFA;\n",
              "      box-shadow: 0px 1px 2px rgba(60, 64, 67, 0.3), 0px 1px 3px 1px rgba(60, 64, 67, 0.15);\n",
              "      fill: #174EA6;\n",
              "    }\n",
              "\n",
              "    [theme=dark] .colab-df-convert {\n",
              "      background-color: #3B4455;\n",
              "      fill: #D2E3FC;\n",
              "    }\n",
              "\n",
              "    [theme=dark] .colab-df-convert:hover {\n",
              "      background-color: #434B5C;\n",
              "      box-shadow: 0px 1px 3px 1px rgba(0, 0, 0, 0.15);\n",
              "      filter: drop-shadow(0px 1px 2px rgba(0, 0, 0, 0.3));\n",
              "      fill: #FFFFFF;\n",
              "    }\n",
              "  </style>\n",
              "\n",
              "      <script>\n",
              "        const buttonEl =\n",
              "          document.querySelector('#df-e7204c6c-f958-4ec7-a64a-c35bef32dea1 button.colab-df-convert');\n",
              "        buttonEl.style.display =\n",
              "          google.colab.kernel.accessAllowed ? 'block' : 'none';\n",
              "\n",
              "        async function convertToInteractive(key) {\n",
              "          const element = document.querySelector('#df-e7204c6c-f958-4ec7-a64a-c35bef32dea1');\n",
              "          const dataTable =\n",
              "            await google.colab.kernel.invokeFunction('convertToInteractive',\n",
              "                                                     [key], {});\n",
              "          if (!dataTable) return;\n",
              "\n",
              "          const docLinkHtml = 'Like what you see? Visit the ' +\n",
              "            '<a target=\"_blank\" href=https://colab.research.google.com/notebooks/data_table.ipynb>data table notebook</a>'\n",
              "            + ' to learn more about interactive tables.';\n",
              "          element.innerHTML = '';\n",
              "          dataTable['output_type'] = 'display_data';\n",
              "          await google.colab.output.renderOutput(dataTable, element);\n",
              "          const docLink = document.createElement('div');\n",
              "          docLink.innerHTML = docLinkHtml;\n",
              "          element.appendChild(docLink);\n",
              "        }\n",
              "      </script>\n",
              "    </div>\n",
              "  </div>\n",
              "  "
            ]
          },
          "metadata": {},
          "execution_count": 14
        }
      ]
    },
    {
      "cell_type": "code",
      "source": [
        "test.describe()"
      ],
      "metadata": {
        "colab": {
          "base_uri": "https://localhost:8080/",
          "height": 344
        },
        "id": "WHiJj-5NXZYa",
        "outputId": "124c41e6-b753-4090-d54d-b69e4c9fda79"
      },
      "execution_count": null,
      "outputs": [
        {
          "output_type": "execute_result",
          "data": {
            "text/plain": [
              "       Exercise_Duration  Body_Temperature(F)          BPM  Height(Feet)  \\\n",
              "count        7500.000000          7500.000000  7500.000000   7500.000000   \n",
              "mean           15.560000           104.058200    95.538933      5.247067   \n",
              "std             8.283402             1.391966     9.579919      0.554436   \n",
              "min             1.000000            99.000000    67.000000      4.000000   \n",
              "25%             8.000000           103.300000    88.000000      5.000000   \n",
              "50%            16.000000           104.400000    96.000000      5.000000   \n",
              "75%            23.000000           105.100000   103.000000      6.000000   \n",
              "max            30.000000           106.700000   123.000000      7.000000   \n",
              "\n",
              "       Height(Remainder_Inches)   Weight(lb)          Age  \n",
              "count               7500.000000  7500.000000  7500.000000  \n",
              "mean                   5.714933   165.187413    42.943600  \n",
              "std                    3.510078    32.986667    17.076529  \n",
              "min                    0.000000    83.800000    20.000000  \n",
              "25%                    3.000000   138.900000    28.000000  \n",
              "50%                    5.000000   163.100000    40.000000  \n",
              "75%                    9.000000   191.800000    56.000000  \n",
              "max                   12.000000   282.200000    79.000000  "
            ],
            "text/html": [
              "\n",
              "  <div id=\"df-8993d3ce-2ff0-4a73-9e26-291ca22c76b8\">\n",
              "    <div class=\"colab-df-container\">\n",
              "      <div>\n",
              "<style scoped>\n",
              "    .dataframe tbody tr th:only-of-type {\n",
              "        vertical-align: middle;\n",
              "    }\n",
              "\n",
              "    .dataframe tbody tr th {\n",
              "        vertical-align: top;\n",
              "    }\n",
              "\n",
              "    .dataframe thead th {\n",
              "        text-align: right;\n",
              "    }\n",
              "</style>\n",
              "<table border=\"1\" class=\"dataframe\">\n",
              "  <thead>\n",
              "    <tr style=\"text-align: right;\">\n",
              "      <th></th>\n",
              "      <th>Exercise_Duration</th>\n",
              "      <th>Body_Temperature(F)</th>\n",
              "      <th>BPM</th>\n",
              "      <th>Height(Feet)</th>\n",
              "      <th>Height(Remainder_Inches)</th>\n",
              "      <th>Weight(lb)</th>\n",
              "      <th>Age</th>\n",
              "    </tr>\n",
              "  </thead>\n",
              "  <tbody>\n",
              "    <tr>\n",
              "      <th>count</th>\n",
              "      <td>7500.000000</td>\n",
              "      <td>7500.000000</td>\n",
              "      <td>7500.000000</td>\n",
              "      <td>7500.000000</td>\n",
              "      <td>7500.000000</td>\n",
              "      <td>7500.000000</td>\n",
              "      <td>7500.000000</td>\n",
              "    </tr>\n",
              "    <tr>\n",
              "      <th>mean</th>\n",
              "      <td>15.560000</td>\n",
              "      <td>104.058200</td>\n",
              "      <td>95.538933</td>\n",
              "      <td>5.247067</td>\n",
              "      <td>5.714933</td>\n",
              "      <td>165.187413</td>\n",
              "      <td>42.943600</td>\n",
              "    </tr>\n",
              "    <tr>\n",
              "      <th>std</th>\n",
              "      <td>8.283402</td>\n",
              "      <td>1.391966</td>\n",
              "      <td>9.579919</td>\n",
              "      <td>0.554436</td>\n",
              "      <td>3.510078</td>\n",
              "      <td>32.986667</td>\n",
              "      <td>17.076529</td>\n",
              "    </tr>\n",
              "    <tr>\n",
              "      <th>min</th>\n",
              "      <td>1.000000</td>\n",
              "      <td>99.000000</td>\n",
              "      <td>67.000000</td>\n",
              "      <td>4.000000</td>\n",
              "      <td>0.000000</td>\n",
              "      <td>83.800000</td>\n",
              "      <td>20.000000</td>\n",
              "    </tr>\n",
              "    <tr>\n",
              "      <th>25%</th>\n",
              "      <td>8.000000</td>\n",
              "      <td>103.300000</td>\n",
              "      <td>88.000000</td>\n",
              "      <td>5.000000</td>\n",
              "      <td>3.000000</td>\n",
              "      <td>138.900000</td>\n",
              "      <td>28.000000</td>\n",
              "    </tr>\n",
              "    <tr>\n",
              "      <th>50%</th>\n",
              "      <td>16.000000</td>\n",
              "      <td>104.400000</td>\n",
              "      <td>96.000000</td>\n",
              "      <td>5.000000</td>\n",
              "      <td>5.000000</td>\n",
              "      <td>163.100000</td>\n",
              "      <td>40.000000</td>\n",
              "    </tr>\n",
              "    <tr>\n",
              "      <th>75%</th>\n",
              "      <td>23.000000</td>\n",
              "      <td>105.100000</td>\n",
              "      <td>103.000000</td>\n",
              "      <td>6.000000</td>\n",
              "      <td>9.000000</td>\n",
              "      <td>191.800000</td>\n",
              "      <td>56.000000</td>\n",
              "    </tr>\n",
              "    <tr>\n",
              "      <th>max</th>\n",
              "      <td>30.000000</td>\n",
              "      <td>106.700000</td>\n",
              "      <td>123.000000</td>\n",
              "      <td>7.000000</td>\n",
              "      <td>12.000000</td>\n",
              "      <td>282.200000</td>\n",
              "      <td>79.000000</td>\n",
              "    </tr>\n",
              "  </tbody>\n",
              "</table>\n",
              "</div>\n",
              "      <button class=\"colab-df-convert\" onclick=\"convertToInteractive('df-8993d3ce-2ff0-4a73-9e26-291ca22c76b8')\"\n",
              "              title=\"Convert this dataframe to an interactive table.\"\n",
              "              style=\"display:none;\">\n",
              "        \n",
              "  <svg xmlns=\"http://www.w3.org/2000/svg\" height=\"24px\"viewBox=\"0 0 24 24\"\n",
              "       width=\"24px\">\n",
              "    <path d=\"M0 0h24v24H0V0z\" fill=\"none\"/>\n",
              "    <path d=\"M18.56 5.44l.94 2.06.94-2.06 2.06-.94-2.06-.94-.94-2.06-.94 2.06-2.06.94zm-11 1L8.5 8.5l.94-2.06 2.06-.94-2.06-.94L8.5 2.5l-.94 2.06-2.06.94zm10 10l.94 2.06.94-2.06 2.06-.94-2.06-.94-.94-2.06-.94 2.06-2.06.94z\"/><path d=\"M17.41 7.96l-1.37-1.37c-.4-.4-.92-.59-1.43-.59-.52 0-1.04.2-1.43.59L10.3 9.45l-7.72 7.72c-.78.78-.78 2.05 0 2.83L4 21.41c.39.39.9.59 1.41.59.51 0 1.02-.2 1.41-.59l7.78-7.78 2.81-2.81c.8-.78.8-2.07 0-2.86zM5.41 20L4 18.59l7.72-7.72 1.47 1.35L5.41 20z\"/>\n",
              "  </svg>\n",
              "      </button>\n",
              "      \n",
              "  <style>\n",
              "    .colab-df-container {\n",
              "      display:flex;\n",
              "      flex-wrap:wrap;\n",
              "      gap: 12px;\n",
              "    }\n",
              "\n",
              "    .colab-df-convert {\n",
              "      background-color: #E8F0FE;\n",
              "      border: none;\n",
              "      border-radius: 50%;\n",
              "      cursor: pointer;\n",
              "      display: none;\n",
              "      fill: #1967D2;\n",
              "      height: 32px;\n",
              "      padding: 0 0 0 0;\n",
              "      width: 32px;\n",
              "    }\n",
              "\n",
              "    .colab-df-convert:hover {\n",
              "      background-color: #E2EBFA;\n",
              "      box-shadow: 0px 1px 2px rgba(60, 64, 67, 0.3), 0px 1px 3px 1px rgba(60, 64, 67, 0.15);\n",
              "      fill: #174EA6;\n",
              "    }\n",
              "\n",
              "    [theme=dark] .colab-df-convert {\n",
              "      background-color: #3B4455;\n",
              "      fill: #D2E3FC;\n",
              "    }\n",
              "\n",
              "    [theme=dark] .colab-df-convert:hover {\n",
              "      background-color: #434B5C;\n",
              "      box-shadow: 0px 1px 3px 1px rgba(0, 0, 0, 0.15);\n",
              "      filter: drop-shadow(0px 1px 2px rgba(0, 0, 0, 0.3));\n",
              "      fill: #FFFFFF;\n",
              "    }\n",
              "  </style>\n",
              "\n",
              "      <script>\n",
              "        const buttonEl =\n",
              "          document.querySelector('#df-8993d3ce-2ff0-4a73-9e26-291ca22c76b8 button.colab-df-convert');\n",
              "        buttonEl.style.display =\n",
              "          google.colab.kernel.accessAllowed ? 'block' : 'none';\n",
              "\n",
              "        async function convertToInteractive(key) {\n",
              "          const element = document.querySelector('#df-8993d3ce-2ff0-4a73-9e26-291ca22c76b8');\n",
              "          const dataTable =\n",
              "            await google.colab.kernel.invokeFunction('convertToInteractive',\n",
              "                                                     [key], {});\n",
              "          if (!dataTable) return;\n",
              "\n",
              "          const docLinkHtml = 'Like what you see? Visit the ' +\n",
              "            '<a target=\"_blank\" href=https://colab.research.google.com/notebooks/data_table.ipynb>data table notebook</a>'\n",
              "            + ' to learn more about interactive tables.';\n",
              "          element.innerHTML = '';\n",
              "          dataTable['output_type'] = 'display_data';\n",
              "          await google.colab.output.renderOutput(dataTable, element);\n",
              "          const docLink = document.createElement('div');\n",
              "          docLink.innerHTML = docLinkHtml;\n",
              "          element.appendChild(docLink);\n",
              "        }\n",
              "      </script>\n",
              "    </div>\n",
              "  </div>\n",
              "  "
            ]
          },
          "metadata": {},
          "execution_count": 15
        }
      ]
    },
    {
      "cell_type": "markdown",
      "source": [
        "## 컬럼변경"
      ],
      "metadata": {
        "id": "HF7SjrfjupuP"
      }
    },
    {
      "cell_type": "markdown",
      "source": [
        "### 키 cm로 바꾸기\n",
        "\n",
        "1피트는 30.48cm이고, 1인치는 2.54 cm입니다.\n",
        "\n",
        "0번째 행의 Height(Feet)의 값은 5.0, Height(Remainder_Inches)의 값은 9.0 입니다.\n",
        "\n",
        "cm로 변환을 위해  계산을 하면 5.0Feet * 30.48 + 9.0Inches * 2.54 = 175.26cm"
      ],
      "metadata": {
        "id": "Nfd1C1_quwzi"
      }
    },
    {
      "cell_type": "code",
      "source": [
        "train['Height(cm)'] = train['Height(Feet)'] * 30.48 + train['Height(Remainder_Inches)'] * 2.54\n",
        "test['Height(cm)'] = test['Height(Feet)'] * 30.48 + test['Height(Remainder_Inches)'] * 2.54\n",
        "\n",
        "plt.figure(figsize = (12,4))\n",
        "plt.subplot(1,2,1)\n",
        "train['Height(cm)'].hist(bins=50)\n",
        "\n",
        "plt.subplot(1,2,2)\n",
        "test['Height(cm)'].hist(bins=50)"
      ],
      "metadata": {
        "colab": {
          "base_uri": "https://localhost:8080/",
          "height": 386
        },
        "id": "MGeKdqKat7zq",
        "outputId": "52e9690d-bce8-41c0-b0f3-8cf7a6371837"
      },
      "execution_count": null,
      "outputs": [
        {
          "output_type": "execute_result",
          "data": {
            "text/plain": [
              "<Axes: >"
            ]
          },
          "metadata": {},
          "execution_count": 16
        },
        {
          "output_type": "display_data",
          "data": {
            "text/plain": [
              "<Figure size 1200x400 with 2 Axes>"
            ],
            "image/png": "[encoded data removed]"
          },
          "metadata": {}
        }
      ]
    },
    {
      "cell_type": "markdown",
      "source": [
        "### 체중 Kg 바꾸기\n",
        "\n",
        "1lb당 0.453592 kg"
      ],
      "metadata": {
        "id": "CRAXCGfVvk2y"
      }
    },
    {
      "cell_type": "code",
      "source": [
        "train['Weight(kg)'] = train['Weight(lb)'] * 0.453592\n",
        "test['Weight(kg)'] = test['Weight(lb)'] * 0.453592\n",
        "\n",
        "plt.figure(figsize = (12,4))\n",
        "plt.subplot(1,2,1)\n",
        "train['Weight(kg)'].hist(bins=50)\n",
        "\n",
        "plt.subplot(1,2,2)\n",
        "test['Weight(kg)'].hist(bins=50)\n"
      ],
      "metadata": {
        "colab": {
          "base_uri": "https://localhost:8080/",
          "height": 392
        },
        "id": "KQ254Db8vQhI",
        "outputId": "378b3071-f6c2-44d5-85a9-8e98e9e94b61"
      },
      "execution_count": null,
      "outputs": [
        {
          "output_type": "execute_result",
          "data": {
            "text/plain": [
              "<Axes: >"
            ]
          },
          "metadata": {},
          "execution_count": 17
        },
        {
          "output_type": "display_data",
          "data": {
            "text/plain": [
              "<Figure size 1200x400 with 2 Axes>"
            ],
            "image/png": "[encoded data removed]"
          },
          "metadata": {}
        }
      ]
    },
    {
      "cell_type": "markdown",
      "source": [
        "### BMI 컬럼생성\n",
        "BMI = 몸무게 ÷키(m)²"
      ],
      "metadata": {
        "id": "WiXD1qGgw4Oc"
      }
    },
    {
      "cell_type": "code",
      "source": [
        "train['BMI'] = train['Weight(kg)'] / ((train['Height(cm)']/100)**2)\n",
        "test['BMI'] = test['Weight(kg)'] / ((test['Height(cm)']/100)**2)\n",
        "\n",
        "plt.figure(figsize = (12,4))\n",
        "plt.subplot(1,2,1)\n",
        "train['BMI'].hist(bins=50)\n",
        "\n",
        "plt.subplot(1,2,2)\n",
        "test['BMI'].hist(bins=50)"
      ],
      "metadata": {
        "colab": {
          "base_uri": "https://localhost:8080/",
          "height": 386
        },
        "id": "QgeOk4a6xLLg",
        "outputId": "21802c5a-f949-4dde-e186-27c4c6d17c26"
      },
      "execution_count": null,
      "outputs": [
        {
          "output_type": "execute_result",
          "data": {
            "text/plain": [
              "<Axes: >"
            ]
          },
          "metadata": {},
          "execution_count": 18
        },
        {
          "output_type": "display_data",
          "data": {
            "text/plain": [
              "<Figure size 1200x400 with 2 Axes>"
            ],
            "image/png": "[encoded data removed]"
          },
          "metadata": {}
        }
      ]
    },
    {
      "cell_type": "code",
      "source": [
        "train['Age_c'] = np.log1p(train['Age'])\n",
        "test['Age_c'] = np.log1p(test['Age'])\n",
        "\n",
        "plt.figure(figsize = (12,4))\n",
        "plt.subplot(1,2,1)\n",
        "train['Age_c'].hist(bins=50)\n",
        "\n",
        "plt.subplot(1,2,2)\n",
        "test['Age_c'].hist(bins=50)"
      ],
      "metadata": {
        "colab": {
          "base_uri": "https://localhost:8080/",
          "height": 386
        },
        "id": "neSTMhcYzQHA",
        "outputId": "eb1fafd4-aa1d-4e44-ec5e-8f67d5972b5f"
      },
      "execution_count": null,
      "outputs": [
        {
          "output_type": "execute_result",
          "data": {
            "text/plain": [
              "<Axes: >"
            ]
          },
          "metadata": {},
          "execution_count": 19
        },
        {
          "output_type": "display_data",
          "data": {
            "text/plain": [
              "<Figure size 1200x400 with 2 Axes>"
            ],
            "image/png": "[encoded data removed]"
          },
          "metadata": {}
        }
      ]
    },
    {
      "cell_type": "markdown",
      "source": [
        "### 운동강도\n",
        "- MHR(최대 심박수 = 220-나이)\n",
        "- 운동강도 (분당심박수/최대심박수) * 100"
      ],
      "metadata": {
        "id": "YdvtJYuH8Sab"
      }
    },
    {
      "cell_type": "code",
      "source": [
        "train['MHR'] = 220 - train['Age']\n",
        "test['MHR'] = 220 - test['Age']"
      ],
      "metadata": {
        "id": "4SXmt3ab8Q9V"
      },
      "execution_count": null,
      "outputs": []
    },
    {
      "cell_type": "code",
      "source": [
        "train['Excise_intensity'] = (train['BPM']/train['MHR'])*100\n",
        "test['Excise_intensity'] = (test['BPM']/test['MHR'])*100\n",
        "\n",
        "plt.figure(figsize = (12,4))\n",
        "plt.subplot(1,2,1)\n",
        "train['Excise_intensity'].hist(bins=50)\n",
        "\n",
        "plt.subplot(1,2,2)\n",
        "test['Excise_intensity'].hist(bins=50)"
      ],
      "metadata": {
        "colab": {
          "base_uri": "https://localhost:8080/",
          "height": 388
        },
        "id": "W4HCPv_C8Q6X",
        "outputId": "d2359790-275e-414f-f4af-f356fee8ebb9"
      },
      "execution_count": null,
      "outputs": [
        {
          "output_type": "execute_result",
          "data": {
            "text/plain": [
              "<Axes: >"
            ]
          },
          "metadata": {},
          "execution_count": 21
        },
        {
          "output_type": "display_data",
          "data": {
            "text/plain": [
              "<Figure size 1200x400 with 2 Axes>"
            ],
            "image/png": "[encoded data removed]"
          },
          "metadata": {}
        }
      ]
    },
    {
      "cell_type": "code",
      "source": [],
      "metadata": {
        "id": "dDfYCL-W8QuA"
      },
      "execution_count": null,
      "outputs": []
    },
    {
      "cell_type": "markdown",
      "source": [
        "### 원핫인코딩\n",
        "은 나중에~"
      ],
      "metadata": {
        "id": "zgJ1jUL2bmfz"
      }
    },
    {
      "cell_type": "code",
      "source": [
        "categorical_feature = train.drop(['ID'],axis = 1).select_dtypes(exclude = 'number').columns\n",
        "categorical_feature "
      ],
      "metadata": {
        "colab": {
          "base_uri": "https://localhost:8080/"
        },
        "id": "gyc8-ziicz_t",
        "outputId": "266abf6a-1286-4fbe-ef26-ed6311a4c9ff"
      },
      "execution_count": null,
      "outputs": [
        {
          "output_type": "execute_result",
          "data": {
            "text/plain": [
              "Index(['Weight_Status', 'Gender'], dtype='object')"
            ]
          },
          "metadata": {},
          "execution_count": 22
        }
      ]
    },
    {
      "cell_type": "markdown",
      "source": [
        "## 토치로 해보기"
      ],
      "metadata": {
        "id": "yhIzt4S5yp0l"
      }
    },
    {
      "cell_type": "code",
      "source": [
        "# 컬럼 확인하기\n",
        "train.columns"
      ],
      "metadata": {
        "colab": {
          "base_uri": "https://localhost:8080/"
        },
        "id": "hL3i1f9awgh9",
        "outputId": "4b870cb6-968d-4449-afd5-9cc759513e6f"
      },
      "execution_count": null,
      "outputs": [
        {
          "output_type": "execute_result",
          "data": {
            "text/plain": [
              "Index(['ID', 'Exercise_Duration', 'Body_Temperature(F)', 'BPM', 'Height(Feet)',\n",
              "       'Height(Remainder_Inches)', 'Weight(lb)', 'Weight_Status', 'Gender',\n",
              "       'Age', 'Calories_Burned', 'Height(cm)', 'Weight(kg)', 'BMI', 'Age_c',\n",
              "       'MHR', 'Excise_intensity'],\n",
              "      dtype='object')"
            ]
          },
          "metadata": {},
          "execution_count": 23
        }
      ]
    },
    {
      "cell_type": "code",
      "source": [
        "# gender 컬럼 숫자로 바꾸기\n",
        "from sklearn.preprocessing import LabelEncoder\n",
        "\n",
        "le = LabelEncoder()\n",
        "\n",
        "train['Gender_enc']= le.fit_transform(train['Gender'])\n",
        "test['Gender_enc']= le.transform(test['Gender'])\n",
        "\n",
        "train['Gender_enc'][:5], test['Gender_enc'][:5]"
      ],
      "metadata": {
        "colab": {
          "base_uri": "https://localhost:8080/"
        },
        "id": "_ox-iBTczE4R",
        "outputId": "dc17ad4f-188f-42ef-f8e9-1d83eb97fd7c"
      },
      "execution_count": null,
      "outputs": [
        {
          "output_type": "execute_result",
          "data": {
            "text/plain": [
              "(0    0\n",
              " 1    1\n",
              " 2    1\n",
              " 3    0\n",
              " 4    1\n",
              " Name: Gender_enc, dtype: int64,\n",
              " 0    0\n",
              " 1    1\n",
              " 2    1\n",
              " 3    1\n",
              " 4    0\n",
              " Name: Gender_enc, dtype: int64)"
            ]
          },
          "metadata": {},
          "execution_count": 24
        }
      ]
    },
    {
      "cell_type": "code",
      "source": [
        "# 필요한 컬럼만 가져오기\n",
        "cols = ['Exercise_Duration','BPM','Body_Temperature(F)', 'Weight(kg)',\n",
        "        'Age','BMI', 'Gender_enc','Excise_intensity']\n",
        "label_name = 'Calories_Burned'\n",
        "X_train = train[cols]\n",
        "X_test = test[cols]\n",
        "y_train = train[label_name]\n",
        "\n",
        "X_train.shape, X_test.shape, y_train.shape"
      ],
      "metadata": {
        "colab": {
          "base_uri": "https://localhost:8080/"
        },
        "id": "HfgF2Nlg0lbf",
        "outputId": "2b4dcdae-9e77-4d12-cc7d-3101583cd9b7"
      },
      "execution_count": null,
      "outputs": [
        {
          "output_type": "execute_result",
          "data": {
            "text/plain": [
              "((7500, 8), (7500, 8), (7500,))"
            ]
          },
          "metadata": {},
          "execution_count": 25
        }
      ]
    },
    {
      "cell_type": "code",
      "source": [
        "# 학습, 검증 데이터 구분\n",
        "from sklearn.model_selection import train_test_split\n",
        "\n",
        "X_train_t, X_valid, y_train_t, y_valid = train_test_split(X_train, y_train, test_size=0.1, random_state=42)\n",
        "X_train_t.shape, X_valid.shape, y_train_t.shape, y_valid.shape"
      ],
      "metadata": {
        "colab": {
          "base_uri": "https://localhost:8080/"
        },
        "id": "knrEPm-I248n",
        "outputId": "25305a13-8667-43bb-98ce-afcaaca59f09"
      },
      "execution_count": null,
      "outputs": [
        {
          "output_type": "execute_result",
          "data": {
            "text/plain": [
              "((6750, 8), (750, 8), (6750,), (750,))"
            ]
          },
          "metadata": {},
          "execution_count": 26
        }
      ]
    },
    {
      "cell_type": "code",
      "source": [
        "# torch, nn, optim import \n",
        "import torch\n",
        "import torch.nn as nn\n",
        "\n",
        "import torch.optim as optim"
      ],
      "metadata": {
        "id": "kxi_psTL70Fk"
      },
      "execution_count": null,
      "outputs": []
    },
    {
      "cell_type": "code",
      "source": [
        "device = \"cuda\" if torch.cuda.is_available() else \"cpu\"\n",
        "print(f\"Using {device} device\")"
      ],
      "metadata": {
        "colab": {
          "base_uri": "https://localhost:8080/"
        },
        "id": "HTNgXGjKp9Zb",
        "outputId": "b8b76602-3376-4057-b32f-e041a189eb16"
      },
      "execution_count": null,
      "outputs": [
        {
          "output_type": "stream",
          "name": "stdout",
          "text": [
            "Using cuda device\n"
          ]
        }
      ]
    },
    {
      "cell_type": "code",
      "source": [
        "# PyTorch 모델을 위한 데이터 변환\n",
        "X_train_torch = torch.FloatTensor(X_train_t.values).to(device)\n",
        "y_train_torch = torch.FloatTensor(y_train_t.values.reshape(-1,1)).to(device)\n",
        "\n",
        "X_valid_t = torch.FloatTensor(X_valid.values)\n",
        "y_valid_t = torch.FloatTensor(y_valid.values.reshape(-1,1))\n",
        "\n",
        "X_test_t = torch.FloatTensor(X_test.values)\n",
        "\n",
        "X_train_t.shape, y_train_t.shape, X_valid_t.shape, y_valid_t.shape, X_test_t.shape"
      ],
      "metadata": {
        "colab": {
          "base_uri": "https://localhost:8080/"
        },
        "id": "DsKQMA5rpN2M",
        "outputId": "645ebf0f-8319-4e93-f8b5-c4a3b9698f5e"
      },
      "execution_count": null,
      "outputs": [
        {
          "output_type": "execute_result",
          "data": {
            "text/plain": [
              "((6750, 8),\n",
              " (6750,),\n",
              " torch.Size([750, 8]),\n",
              " torch.Size([750, 1]),\n",
              " torch.Size([7500, 8]))"
            ]
          },
          "metadata": {},
          "execution_count": 29
        }
      ]
    },
    {
      "cell_type": "code",
      "source": [
        "# Multivariate Linear Regression 모델 구현\n",
        "# 모델 인스턴스 생성\n",
        "# 손실 함수 및 최적화 알고리즘 설정\n",
        "class MultivariateLinearRegression(nn.Module):\n",
        "    def __init__(self, input_size, output_size):\n",
        "        super(MultivariateLinearRegression, self).__init__()\n",
        "        self.linear_relu_stack = nn.Sequential(\n",
        "            nn.Linear(input_size, 512),\n",
        "            nn.ReLU(),\n",
        "            nn.Linear(512, 512),\n",
        "            nn.ReLU(),\n",
        "            nn.Linear(512, output_size)\n",
        "        )\n",
        "    \n",
        "    def forward(self, x):\n",
        "        x = self.linear_relu_stack(x)\n",
        "        return x    \n",
        "\n",
        "# 모델 인스턴스 생성\n",
        "model = MultivariateLinearRegression(input_size = X_train_torch.shape[1], output_size = 1).to(device)\n",
        "print(model)"
      ],
      "metadata": {
        "colab": {
          "base_uri": "https://localhost:8080/"
        },
        "id": "yz9ye1rXp2H9",
        "outputId": "a7097c12-7ff5-4496-b263-bc0d6c8cb4f0"
      },
      "execution_count": null,
      "outputs": [
        {
          "output_type": "stream",
          "name": "stdout",
          "text": [
            "MultivariateLinearRegression(\n",
            "  (linear_relu_stack): Sequential(\n",
            "    (0): Linear(in_features=8, out_features=512, bias=True)\n",
            "    (1): ReLU()\n",
            "    (2): Linear(in_features=512, out_features=512, bias=True)\n",
            "    (3): ReLU()\n",
            "    (4): Linear(in_features=512, out_features=1, bias=True)\n",
            "  )\n",
            ")\n"
          ]
        }
      ]
    },
    {
      "cell_type": "code",
      "source": [
        "# 손실 함수 및 최적화 알고리즘 설정\n",
        "criterion = nn.MSELoss()\n",
        "optimizer = torch.optim.Adam(model.parameters(), lr=1e-3)"
      ],
      "metadata": {
        "id": "wW5XcU4Mp6eM"
      },
      "execution_count": null,
      "outputs": []
    },
    {
      "cell_type": "code",
      "source": [
        "num_epochs = 5000\n",
        "loss_list = []\n",
        "for epoch in range(num_epochs+1):\n",
        "    y_pred = model(X_train_torch)\n",
        "    loss = criterion(y_train_torch, y_pred)\n",
        "\n",
        "    # 역전파\n",
        "    optimizer.zero_grad()\n",
        "    loss.backward()\n",
        "    optimizer.step()\n",
        "\n",
        "    # loss_list 시각화나 로그를 확인해 보기 위해 사용\n",
        "    loss_list.append(loss.item())\n",
        "    if (epoch + 1) % 100 == 0:\n",
        "        print(f\"epoch:{epoch}, loss:{loss.item()}\")"
      ],
      "metadata": {
        "colab": {
          "base_uri": "https://localhost:8080/"
        },
        "id": "5ITYBxw1qCo_",
        "outputId": "e697199f-49c3-4c6c-b58e-e1b13fee8fe3"
      },
      "execution_count": null,
      "outputs": [
        {
          "output_type": "stream",
          "name": "stdout",
          "text": [
            "epoch:99, loss:55.99596405029297\n",
            "epoch:199, loss:26.8674259185791\n",
            "epoch:299, loss:19.00226402282715\n",
            "epoch:399, loss:15.63544750213623\n",
            "epoch:499, loss:13.856489181518555\n",
            "epoch:599, loss:12.526350021362305\n",
            "epoch:699, loss:11.550702095031738\n",
            "epoch:799, loss:10.711926460266113\n",
            "epoch:899, loss:13.663033485412598\n",
            "epoch:999, loss:10.732287406921387\n",
            "epoch:1099, loss:10.616374015808105\n",
            "epoch:1199, loss:9.274519920349121\n",
            "epoch:1299, loss:12.937568664550781\n",
            "epoch:1399, loss:11.029608726501465\n",
            "epoch:1499, loss:6.0312418937683105\n",
            "epoch:1599, loss:4.523588180541992\n",
            "epoch:1699, loss:39.866554260253906\n",
            "epoch:1799, loss:3.952716588973999\n",
            "epoch:1899, loss:3.6907408237457275\n",
            "epoch:1999, loss:3.460867404937744\n",
            "epoch:2099, loss:3.29499888420105\n",
            "epoch:2199, loss:3.1752889156341553\n",
            "epoch:2299, loss:2.984332323074341\n",
            "epoch:2399, loss:2.872936964035034\n",
            "epoch:2499, loss:2.829043388366699\n",
            "epoch:2599, loss:3.000124931335449\n",
            "epoch:2699, loss:12.240802764892578\n",
            "epoch:2799, loss:2.4708433151245117\n",
            "epoch:2899, loss:2.39628529548645\n",
            "epoch:2999, loss:2.539235830307007\n",
            "epoch:3099, loss:2.2295117378234863\n",
            "epoch:3199, loss:2.596618413925171\n",
            "epoch:3299, loss:2.1388516426086426\n",
            "epoch:3399, loss:2.067822217941284\n",
            "epoch:3499, loss:2.8587045669555664\n",
            "epoch:3599, loss:3.465147018432617\n",
            "epoch:3699, loss:2.8513033390045166\n",
            "epoch:3799, loss:5.446561336517334\n",
            "epoch:3899, loss:2.3131847381591797\n",
            "epoch:3999, loss:9.742537498474121\n",
            "epoch:4099, loss:1.8093208074569702\n",
            "epoch:4199, loss:1.7397236824035645\n",
            "epoch:4299, loss:1.6975018978118896\n",
            "epoch:4399, loss:1.6658586263656616\n",
            "epoch:4499, loss:1.651336431503296\n",
            "epoch:4599, loss:1.6099175214767456\n",
            "epoch:4699, loss:1.6374632120132446\n",
            "epoch:4799, loss:1.5600777864456177\n",
            "epoch:4899, loss:1.600347876548767\n",
            "epoch:4999, loss:1.6136937141418457\n"
          ]
        }
      ]
    },
    {
      "cell_type": "code",
      "source": [
        "pd.Series(loss_list).plot()"
      ],
      "metadata": {
        "colab": {
          "base_uri": "https://localhost:8080/",
          "height": 448
        },
        "id": "ewLiJbm4wAc4",
        "outputId": "0c74d40c-c416-4b6a-b354-ae85ff680af4"
      },
      "execution_count": null,
      "outputs": [
        {
          "output_type": "execute_result",
          "data": {
            "text/plain": [
              "<Axes: >"
            ]
          },
          "metadata": {},
          "execution_count": 101
        },
        {
          "output_type": "display_data",
          "data": {
            "text/plain": [
              "<Figure size 640x480 with 1 Axes>"
            ],
            "image/png": "[encoded data removed]"
          },
          "metadata": {}
        }
      ]
    },
    {
      "cell_type": "code",
      "source": [
        "# 검증 데이터에 대한 예측 결과 출력\n",
        "with torch.no_grad():\n",
        "    y_valid_pred = model(X_valid_t.to(device))\n",
        "    print(f'val_loss : {criterion(y_valid_t.to(device), y_valid_pred.to(device)).item()}')"
      ],
      "metadata": {
        "colab": {
          "base_uri": "https://localhost:8080/"
        },
        "id": "l_DFq_cyqKlG",
        "outputId": "77758a65-200f-49df-bc28-af4fe6b654c5"
      },
      "execution_count": null,
      "outputs": [
        {
          "output_type": "stream",
          "name": "stdout",
          "text": [
            "val_loss : 1.5726858377456665\n"
          ]
        }
      ]
    },
    {
      "cell_type": "code",
      "source": [
        "from sklearn.metrics import mean_squared_error\n",
        "\n",
        "mse = mean_squared_error(y_valid_t.cpu().numpy(), y_valid_pred.cpu().numpy())\n",
        "rmse = np.sqrt(mse)\n",
        "rmse"
      ],
      "metadata": {
        "colab": {
          "base_uri": "https://localhost:8080/"
        },
        "id": "_M9jwlQ8qvmK",
        "outputId": "024b3957-12d3-4258-cb29-57faf458530a"
      },
      "execution_count": null,
      "outputs": [
        {
          "output_type": "execute_result",
          "data": {
            "text/plain": [
              "1.2540678"
            ]
          },
          "metadata": {},
          "execution_count": 103
        }
      ]
    },
    {
      "cell_type": "code",
      "source": [
        "with torch.no_grad():\n",
        "    y_predict = model(X_test_t.to(device))\n",
        "y_predict.squeeze().shape"
      ],
      "metadata": {
        "colab": {
          "base_uri": "https://localhost:8080/"
        },
        "id": "bWUwB0FmqwBn",
        "outputId": "c92b236d-34e7-4b47-f3c2-ac5f1db22fa1"
      },
      "execution_count": null,
      "outputs": [
        {
          "output_type": "execute_result",
          "data": {
            "text/plain": [
              "torch.Size([7500])"
            ]
          },
          "metadata": {},
          "execution_count": 104
        }
      ]
    },
    {
      "cell_type": "code",
      "source": [
        "submission = pd.read_csv('/content/sample_submission.csv', index_col = 'ID')\n",
        "submission[\"Calories_Burned\"] = y_predict.cpu().numpy()\n",
        "\n",
        "file_name = f'./sub_{rmse:.5f}.csv'\n",
        "submission.to_csv(file_name)\n",
        "pd.read_csv(file_name, index_col=\"ID\").head(2)"
      ],
      "metadata": {
        "colab": {
          "base_uri": "https://localhost:8080/",
          "height": 143
        },
        "id": "azQr94OPq7FA",
        "outputId": "46514004-b950-4a28-aa37-de549ab3d76c"
      },
      "execution_count": null,
      "outputs": [
        {
          "output_type": "execute_result",
          "data": {
            "text/plain": [
              "           Calories_Burned\n",
              "ID                        \n",
              "TEST_0000        174.00974\n",
              "TEST_0001        193.20690"
            ],
            "text/html": [
              "\n",
              "  <div id=\"df-f68f417d-130f-47aa-b675-369550aa49b1\">\n",
              "    <div class=\"colab-df-container\">\n",
              "      <div>\n",
              "<style scoped>\n",
              "    .dataframe tbody tr th:only-of-type {\n",
              "        vertical-align: middle;\n",
              "    }\n",
              "\n",
              "    .dataframe tbody tr th {\n",
              "        vertical-align: top;\n",
              "    }\n",
              "\n",
              "    .dataframe thead th {\n",
              "        text-align: right;\n",
              "    }\n",
              "</style>\n",
              "<table border=\"1\" class=\"dataframe\">\n",
              "  <thead>\n",
              "    <tr style=\"text-align: right;\">\n",
              "      <th></th>\n",
              "      <th>Calories_Burned</th>\n",
              "    </tr>\n",
              "    <tr>\n",
              "      <th>ID</th>\n",
              "      <th></th>\n",
              "    </tr>\n",
              "  </thead>\n",
              "  <tbody>\n",
              "    <tr>\n",
              "      <th>TEST_0000</th>\n",
              "      <td>174.00974</td>\n",
              "    </tr>\n",
              "    <tr>\n",
              "      <th>TEST_0001</th>\n",
              "      <td>193.20690</td>\n",
              "    </tr>\n",
              "  </tbody>\n",
              "</table>\n",
              "</div>\n",
              "      <button class=\"colab-df-convert\" onclick=\"convertToInteractive('df-f68f417d-130f-47aa-b675-369550aa49b1')\"\n",
              "              title=\"Convert this dataframe to an interactive table.\"\n",
              "              style=\"display:none;\">\n",
              "        \n",
              "  <svg xmlns=\"http://www.w3.org/2000/svg\" height=\"24px\"viewBox=\"0 0 24 24\"\n",
              "       width=\"24px\">\n",
              "    <path d=\"M0 0h24v24H0V0z\" fill=\"none\"/>\n",
              "    <path d=\"M18.56 5.44l.94 2.06.94-2.06 2.06-.94-2.06-.94-.94-2.06-.94 2.06-2.06.94zm-11 1L8.5 8.5l.94-2.06 2.06-.94-2.06-.94L8.5 2.5l-.94 2.06-2.06.94zm10 10l.94 2.06.94-2.06 2.06-.94-2.06-.94-.94-2.06-.94 2.06-2.06.94z\"/><path d=\"M17.41 7.96l-1.37-1.37c-.4-.4-.92-.59-1.43-.59-.52 0-1.04.2-1.43.59L10.3 9.45l-7.72 7.72c-.78.78-.78 2.05 0 2.83L4 21.41c.39.39.9.59 1.41.59.51 0 1.02-.2 1.41-.59l7.78-7.78 2.81-2.81c.8-.78.8-2.07 0-2.86zM5.41 20L4 18.59l7.72-7.72 1.47 1.35L5.41 20z\"/>\n",
              "  </svg>\n",
              "      </button>\n",
              "      \n",
              "  <style>\n",
              "    .colab-df-container {\n",
              "      display:flex;\n",
              "      flex-wrap:wrap;\n",
              "      gap: 12px;\n",
              "    }\n",
              "\n",
              "    .colab-df-convert {\n",
              "      background-color: #E8F0FE;\n",
              "      border: none;\n",
              "      border-radius: 50%;\n",
              "      cursor: pointer;\n",
              "      display: none;\n",
              "      fill: #1967D2;\n",
              "      height: 32px;\n",
              "      padding: 0 0 0 0;\n",
              "      width: 32px;\n",
              "    }\n",
              "\n",
              "    .colab-df-convert:hover {\n",
              "      background-color: #E2EBFA;\n",
              "      box-shadow: 0px 1px 2px rgba(60, 64, 67, 0.3), 0px 1px 3px 1px rgba(60, 64, 67, 0.15);\n",
              "      fill: #174EA6;\n",
              "    }\n",
              "\n",
              "    [theme=dark] .colab-df-convert {\n",
              "      background-color: #3B4455;\n",
              "      fill: #D2E3FC;\n",
              "    }\n",
              "\n",
              "    [theme=dark] .colab-df-convert:hover {\n",
              "      background-color: #434B5C;\n",
              "      box-shadow: 0px 1px 3px 1px rgba(0, 0, 0, 0.15);\n",
              "      filter: drop-shadow(0px 1px 2px rgba(0, 0, 0, 0.3));\n",
              "      fill: #FFFFFF;\n",
              "    }\n",
              "  </style>\n",
              "\n",
              "      <script>\n",
              "        const buttonEl =\n",
              "          document.querySelector('#df-f68f417d-130f-47aa-b675-369550aa49b1 button.colab-df-convert');\n",
              "        buttonEl.style.display =\n",
              "          google.colab.kernel.accessAllowed ? 'block' : 'none';\n",
              "\n",
              "        async function convertToInteractive(key) {\n",
              "          const element = document.querySelector('#df-f68f417d-130f-47aa-b675-369550aa49b1');\n",
              "          const dataTable =\n",
              "            await google.colab.kernel.invokeFunction('convertToInteractive',\n",
              "                                                     [key], {});\n",
              "          if (!dataTable) return;\n",
              "\n",
              "          const docLinkHtml = 'Like what you see? Visit the ' +\n",
              "            '<a target=\"_blank\" href=https://colab.research.google.com/notebooks/data_table.ipynb>data table notebook</a>'\n",
              "            + ' to learn more about interactive tables.';\n",
              "          element.innerHTML = '';\n",
              "          dataTable['output_type'] = 'display_data';\n",
              "          await google.colab.output.renderOutput(dataTable, element);\n",
              "          const docLink = document.createElement('div');\n",
              "          docLink.innerHTML = docLinkHtml;\n",
              "          element.appendChild(docLink);\n",
              "        }\n",
              "      </script>\n",
              "    </div>\n",
              "  </div>\n",
              "  "
            ]
          },
          "metadata": {},
          "execution_count": 105
        }
      ]
    },
    {
      "cell_type": "markdown",
      "source": [
        "\t1.310284023"
      ],
      "metadata": {
        "id": "mu-MNg2dEk1F"
      }
    },
    {
      "cell_type": "markdown",
      "source": [
        "### 레이어 진화~! 1\n"
      ],
      "metadata": {
        "id": "4-FitVQfpZHA"
      }
    },
    {
      "cell_type": "code",
      "source": [
        "# 학습, 검증 데이터 구분\n",
        "from sklearn.model_selection import train_test_split\n",
        "\n",
        "X_train_t, X_valid, y_train_t, y_valid = train_test_split(X_train, y_train, test_size=0.1, random_state=42)\n",
        "X_train_t.shape, X_valid.shape, y_train_t.shape, y_valid.shape"
      ],
      "metadata": {
        "colab": {
          "base_uri": "https://localhost:8080/"
        },
        "id": "SpuTcdoUydMC",
        "outputId": "eac49fc7-6250-4a97-e757-0d4d0b84f3ee"
      },
      "execution_count": null,
      "outputs": [
        {
          "output_type": "execute_result",
          "data": {
            "text/plain": [
              "((6750, 8), (750, 8), (6750,), (750,))"
            ]
          },
          "metadata": {},
          "execution_count": 119
        }
      ]
    },
    {
      "cell_type": "code",
      "source": [
        "# PyTorch 모델을 위한 데이터 변환\n",
        "X_train_torch = torch.FloatTensor(X_train_t.values).to(device)\n",
        "y_train_torch = torch.FloatTensor(y_train_t.values.reshape(-1,1)).to(device)\n",
        "\n",
        "X_valid_t = torch.FloatTensor(X_valid.values)\n",
        "y_valid_t = torch.FloatTensor(y_valid.values.reshape(-1,1))\n",
        "\n",
        "X_test_t = torch.FloatTensor(X_test.values)\n",
        "\n",
        "X_train_t.shape, y_train_t.shape, X_valid_t.shape, y_valid_t.shape, X_test_t.shape"
      ],
      "metadata": {
        "colab": {
          "base_uri": "https://localhost:8080/"
        },
        "id": "DJDy3XSVyjLD",
        "outputId": "6eaf03b9-37f3-4518-b461-7723dcd50769"
      },
      "execution_count": null,
      "outputs": [
        {
          "output_type": "execute_result",
          "data": {
            "text/plain": [
              "((6750, 8),\n",
              " (6750,),\n",
              " torch.Size([750, 8]),\n",
              " torch.Size([750, 1]),\n",
              " torch.Size([7500, 8]))"
            ]
          },
          "metadata": {},
          "execution_count": 120
        }
      ]
    },
    {
      "cell_type": "code",
      "source": [
        "# torch, nn, optim import \n",
        "import torch\n",
        "import torch.nn as nn\n",
        "\n",
        "import torch.optim as optim"
      ],
      "metadata": {
        "id": "glQ9hANrqD8A"
      },
      "execution_count": null,
      "outputs": []
    },
    {
      "cell_type": "code",
      "source": [
        "# Multivariate Linear Regression 모델 구현\n",
        "# 모델 인스턴스 생성\n",
        "# 손실 함수 및 최적화 알고리즘 설정\n",
        "class MultivariateLinearRegression(nn.Module):\n",
        "    def __init__(self, input_size, output_size):\n",
        "        super(MultivariateLinearRegression, self).__init__()\n",
        "        self.linear_relu_stack = nn.Sequential(\n",
        "            nn.Linear(input_size, 512),\n",
        "            nn.ReLU(),\n",
        "            nn.Linear(512, 512),\n",
        "            nn.ReLU(),\n",
        "            nn.Linear(512, output_size)\n",
        "        )\n",
        "    \n",
        "    def forward(self, x):\n",
        "        x = self.linear_relu_stack(x)\n",
        "        return x    \n",
        "\n",
        "# 모델 인스턴스 생성\n",
        "model = MultivariateLinearRegression(input_size = X_train_torch.shape[1], output_size = 1).to(device)\n",
        "print(model)"
      ],
      "metadata": {
        "id": "ZU9uq3V0rDDE",
        "colab": {
          "base_uri": "https://localhost:8080/"
        },
        "outputId": "9ceaab97-7363-4426-a080-9d39848fc139"
      },
      "execution_count": null,
      "outputs": [
        {
          "output_type": "stream",
          "name": "stdout",
          "text": [
            "MultivariateLinearRegression(\n",
            "  (linear_relu_stack): Sequential(\n",
            "    (0): Linear(in_features=8, out_features=512, bias=True)\n",
            "    (1): ReLU()\n",
            "    (2): Linear(in_features=512, out_features=512, bias=True)\n",
            "    (3): ReLU()\n",
            "    (4): Linear(in_features=512, out_features=1, bias=True)\n",
            "  )\n",
            ")\n"
          ]
        }
      ]
    },
    {
      "cell_type": "code",
      "source": [
        "# 손실 함수 및 최적화 알고리즘 설정\n",
        "criterion = nn.MSELoss()\n",
        "optimizer = torch.optim.Adam(model.parameters(), lr=0.005)"
      ],
      "metadata": {
        "id": "XMLJ3ul2p39W"
      },
      "execution_count": null,
      "outputs": []
    },
    {
      "cell_type": "code",
      "source": [
        "num_epochs = 3000\n",
        "loss_list = []\n",
        "for epoch in range(num_epochs+1):\n",
        "    y_pred = model(X_train_torch)\n",
        "    loss = criterion(y_train_torch, y_pred)\n",
        "\n",
        "    # 역전파\n",
        "    optimizer.zero_grad()\n",
        "    loss.backward()\n",
        "    optimizer.step()\n",
        "\n",
        "    # loss_list 시각화나 로그를 확인해 보기 위해 사용\n",
        "    loss_list.append(loss.item())\n",
        "    if (epoch + 1) % 100 == 0:\n",
        "        print(f\"epoch:{epoch}, loss:{loss.item()}\")"
      ],
      "metadata": {
        "colab": {
          "base_uri": "https://localhost:8080/"
        },
        "id": "b0DHy34hqJGN",
        "outputId": "6d35b978-bee2-4de5-d3e0-7f5412e47cbc"
      },
      "execution_count": null,
      "outputs": [
        {
          "output_type": "stream",
          "name": "stdout",
          "text": [
            "epoch:99, loss:1.4360079765319824\n",
            "epoch:199, loss:1.3800415992736816\n",
            "epoch:299, loss:1.4372833967208862\n",
            "epoch:399, loss:1.5663341283798218\n",
            "epoch:499, loss:1.3488389253616333\n",
            "epoch:599, loss:1.291775107383728\n",
            "epoch:699, loss:1.2537314891815186\n",
            "epoch:799, loss:2.1080713272094727\n",
            "epoch:899, loss:7.905202388763428\n",
            "epoch:999, loss:1.275307536125183\n",
            "epoch:1099, loss:1.2167681455612183\n",
            "epoch:1199, loss:1.1856087446212769\n",
            "epoch:1299, loss:12.521034240722656\n",
            "epoch:1399, loss:1.249962329864502\n",
            "epoch:1499, loss:1.1475492715835571\n",
            "epoch:1599, loss:1.779722809791565\n",
            "epoch:1699, loss:4.840581893920898\n",
            "epoch:1799, loss:1.2090134620666504\n",
            "epoch:1899, loss:1.1060084104537964\n",
            "epoch:1999, loss:1.1465375423431396\n",
            "epoch:2099, loss:1.2628167867660522\n",
            "epoch:2199, loss:1.0798324346542358\n",
            "epoch:2299, loss:3.9865641593933105\n",
            "epoch:2399, loss:1.3500126600265503\n",
            "epoch:2499, loss:18.86660385131836\n",
            "epoch:2599, loss:1.1255850791931152\n",
            "epoch:2699, loss:1.0661664009094238\n",
            "epoch:2799, loss:3.0385422706604004\n",
            "epoch:2899, loss:1.6760218143463135\n",
            "epoch:2999, loss:1.0374501943588257\n"
          ]
        }
      ]
    },
    {
      "cell_type": "code",
      "source": [
        "pd.Series(loss_list).plot()"
      ],
      "metadata": {
        "colab": {
          "base_uri": "https://localhost:8080/",
          "height": 448
        },
        "id": "dtsgQ6xMqLpy",
        "outputId": "922d71fb-e5e7-413e-a342-55a81492b0f7"
      },
      "execution_count": null,
      "outputs": [
        {
          "output_type": "execute_result",
          "data": {
            "text/plain": [
              "<Axes: >"
            ]
          },
          "metadata": {},
          "execution_count": 140
        },
        {
          "output_type": "display_data",
          "data": {
            "text/plain": [
              "<Figure size 640x480 with 1 Axes>"
            ],
            "image/png": "[encoded data removed]"
          },
          "metadata": {}
        }
      ]
    },
    {
      "cell_type": "code",
      "source": [
        "# 검증 데이터에 대한 예측 결과 출력\n",
        "with torch.no_grad():\n",
        "    y_valid_pred = model(X_valid_t.to(device))\n",
        "    print(f'val_loss : {criterion(y_valid_t.to(device), y_valid_pred.to(device)).item()}')"
      ],
      "metadata": {
        "colab": {
          "base_uri": "https://localhost:8080/"
        },
        "id": "sFpXYwJ7y1-c",
        "outputId": "b5dd95df-1e51-422a-d63c-9fa64f3e6f56"
      },
      "execution_count": null,
      "outputs": [
        {
          "output_type": "stream",
          "name": "stdout",
          "text": [
            "val_loss : 1.2656879425048828\n"
          ]
        }
      ]
    },
    {
      "cell_type": "code",
      "source": [
        "from sklearn.metrics import mean_squared_error\n",
        "\n",
        "mse = mean_squared_error(y_valid_t.cpu().numpy(), y_valid_pred.cpu().numpy())\n",
        "rmse = np.sqrt(mse)\n",
        "rmse"
      ],
      "metadata": {
        "colab": {
          "base_uri": "https://localhost:8080/"
        },
        "id": "4HKix5GJy5Em",
        "outputId": "abdfbf4c-eb69-4ff9-e44b-79663eef6950"
      },
      "execution_count": null,
      "outputs": [
        {
          "output_type": "execute_result",
          "data": {
            "text/plain": [
              "1.125028"
            ]
          },
          "metadata": {},
          "execution_count": 142
        }
      ]
    },
    {
      "cell_type": "code",
      "source": [
        "with torch.no_grad():\n",
        "    y_predict = model(X_test_t.to(device))\n",
        "y_predict.squeeze().shape"
      ],
      "metadata": {
        "colab": {
          "base_uri": "https://localhost:8080/"
        },
        "id": "U09S6xOjy7oa",
        "outputId": "4eef0e5e-8b2f-4211-ebb1-4fefcddf1f0b"
      },
      "execution_count": null,
      "outputs": [
        {
          "output_type": "execute_result",
          "data": {
            "text/plain": [
              "torch.Size([7500])"
            ]
          },
          "metadata": {},
          "execution_count": 143
        }
      ]
    },
    {
      "cell_type": "code",
      "source": [
        "submission = pd.read_csv('/content/sample_submission.csv', index_col = 'ID')\n",
        "submission[\"Calories_Burned\"] = y_predict.cpu().numpy()\n",
        "\n",
        "file_name = f'./sub_{rmse:.5f}.csv'\n",
        "submission.to_csv(file_name)\n",
        "pd.read_csv(file_name, index_col=\"ID\").head(2)"
      ],
      "metadata": {
        "colab": {
          "base_uri": "https://localhost:8080/",
          "height": 143
        },
        "id": "dpM5PVoky9si",
        "outputId": "a00e37d9-9c8a-4e12-8c1b-d9c6a68da994"
      },
      "execution_count": null,
      "outputs": [
        {
          "output_type": "execute_result",
          "data": {
            "text/plain": [
              "           Calories_Burned\n",
              "ID                        \n",
              "TEST_0000        173.79858\n",
              "TEST_0001        192.20152"
            ],
            "text/html": [
              "\n",
              "  <div id=\"df-10d8416b-d42b-4d33-98a2-cfc1458f84fb\">\n",
              "    <div class=\"colab-df-container\">\n",
              "      <div>\n",
              "<style scoped>\n",
              "    .dataframe tbody tr th:only-of-type {\n",
              "        vertical-align: middle;\n",
              "    }\n",
              "\n",
              "    .dataframe tbody tr th {\n",
              "        vertical-align: top;\n",
              "    }\n",
              "\n",
              "    .dataframe thead th {\n",
              "        text-align: right;\n",
              "    }\n",
              "</style>\n",
              "<table border=\"1\" class=\"dataframe\">\n",
              "  <thead>\n",
              "    <tr style=\"text-align: right;\">\n",
              "      <th></th>\n",
              "      <th>Calories_Burned</th>\n",
              "    </tr>\n",
              "    <tr>\n",
              "      <th>ID</th>\n",
              "      <th></th>\n",
              "    </tr>\n",
              "  </thead>\n",
              "  <tbody>\n",
              "    <tr>\n",
              "      <th>TEST_0000</th>\n",
              "      <td>173.79858</td>\n",
              "    </tr>\n",
              "    <tr>\n",
              "      <th>TEST_0001</th>\n",
              "      <td>192.20152</td>\n",
              "    </tr>\n",
              "  </tbody>\n",
              "</table>\n",
              "</div>\n",
              "      <button class=\"colab-df-convert\" onclick=\"convertToInteractive('df-10d8416b-d42b-4d33-98a2-cfc1458f84fb')\"\n",
              "              title=\"Convert this dataframe to an interactive table.\"\n",
              "              style=\"display:none;\">\n",
              "        \n",
              "  <svg xmlns=\"http://www.w3.org/2000/svg\" height=\"24px\"viewBox=\"0 0 24 24\"\n",
              "       width=\"24px\">\n",
              "    <path d=\"M0 0h24v24H0V0z\" fill=\"none\"/>\n",
              "    <path d=\"M18.56 5.44l.94 2.06.94-2.06 2.06-.94-2.06-.94-.94-2.06-.94 2.06-2.06.94zm-11 1L8.5 8.5l.94-2.06 2.06-.94-2.06-.94L8.5 2.5l-.94 2.06-2.06.94zm10 10l.94 2.06.94-2.06 2.06-.94-2.06-.94-.94-2.06-.94 2.06-2.06.94z\"/><path d=\"M17.41 7.96l-1.37-1.37c-.4-.4-.92-.59-1.43-.59-.52 0-1.04.2-1.43.59L10.3 9.45l-7.72 7.72c-.78.78-.78 2.05 0 2.83L4 21.41c.39.39.9.59 1.41.59.51 0 1.02-.2 1.41-.59l7.78-7.78 2.81-2.81c.8-.78.8-2.07 0-2.86zM5.41 20L4 18.59l7.72-7.72 1.47 1.35L5.41 20z\"/>\n",
              "  </svg>\n",
              "      </button>\n",
              "      \n",
              "  <style>\n",
              "    .colab-df-container {\n",
              "      display:flex;\n",
              "      flex-wrap:wrap;\n",
              "      gap: 12px;\n",
              "    }\n",
              "\n",
              "    .colab-df-convert {\n",
              "      background-color: #E8F0FE;\n",
              "      border: none;\n",
              "      border-radius: 50%;\n",
              "      cursor: pointer;\n",
              "      display: none;\n",
              "      fill: #1967D2;\n",
              "      height: 32px;\n",
              "      padding: 0 0 0 0;\n",
              "      width: 32px;\n",
              "    }\n",
              "\n",
              "    .colab-df-convert:hover {\n",
              "      background-color: #E2EBFA;\n",
              "      box-shadow: 0px 1px 2px rgba(60, 64, 67, 0.3), 0px 1px 3px 1px rgba(60, 64, 67, 0.15);\n",
              "      fill: #174EA6;\n",
              "    }\n",
              "\n",
              "    [theme=dark] .colab-df-convert {\n",
              "      background-color: #3B4455;\n",
              "      fill: #D2E3FC;\n",
              "    }\n",
              "\n",
              "    [theme=dark] .colab-df-convert:hover {\n",
              "      background-color: #434B5C;\n",
              "      box-shadow: 0px 1px 3px 1px rgba(0, 0, 0, 0.15);\n",
              "      filter: drop-shadow(0px 1px 2px rgba(0, 0, 0, 0.3));\n",
              "      fill: #FFFFFF;\n",
              "    }\n",
              "  </style>\n",
              "\n",
              "      <script>\n",
              "        const buttonEl =\n",
              "          document.querySelector('#df-10d8416b-d42b-4d33-98a2-cfc1458f84fb button.colab-df-convert');\n",
              "        buttonEl.style.display =\n",
              "          google.colab.kernel.accessAllowed ? 'block' : 'none';\n",
              "\n",
              "        async function convertToInteractive(key) {\n",
              "          const element = document.querySelector('#df-10d8416b-d42b-4d33-98a2-cfc1458f84fb');\n",
              "          const dataTable =\n",
              "            await google.colab.kernel.invokeFunction('convertToInteractive',\n",
              "                                                     [key], {});\n",
              "          if (!dataTable) return;\n",
              "\n",
              "          const docLinkHtml = 'Like what you see? Visit the ' +\n",
              "            '<a target=\"_blank\" href=https://colab.research.google.com/notebooks/data_table.ipynb>data table notebook</a>'\n",
              "            + ' to learn more about interactive tables.';\n",
              "          element.innerHTML = '';\n",
              "          dataTable['output_type'] = 'display_data';\n",
              "          await google.colab.output.renderOutput(dataTable, element);\n",
              "          const docLink = document.createElement('div');\n",
              "          docLink.innerHTML = docLinkHtml;\n",
              "          element.appendChild(docLink);\n",
              "        }\n",
              "      </script>\n",
              "    </div>\n",
              "  </div>\n",
              "  "
            ]
          },
          "metadata": {},
          "execution_count": 144
        }
      ]
    },
    {
      "cell_type": "markdown",
      "source": [
        "### 레이어 진화!! "
      ],
      "metadata": {
        "id": "Nvg1dM63zIdw"
      }
    },
    {
      "cell_type": "code",
      "source": [
        "# torch, nn, optim import \n",
        "import torch\n",
        "import torch.nn as nn\n",
        "\n",
        "import torch.optim as optim"
      ],
      "metadata": {
        "id": "SvEBBW1ozF3D"
      },
      "execution_count": null,
      "outputs": []
    },
    {
      "cell_type": "code",
      "source": [
        "# Multivariate Linear Regression 모델 구현\n",
        "# 모델 인스턴스 생성\n",
        "# 손실 함수 및 최적화 알고리즘 설정\n",
        "class MultivariateLinearRegression(nn.Module):\n",
        "    def __init__(self, input_size, output_size):\n",
        "        super(MultivariateLinearRegression, self).__init__()\n",
        "        self.linear_relu_stack = nn.Sequential(\n",
        "            nn.Linear(input_size, 512),\n",
        "            nn.ReLU(),\n",
        "            nn.Linear(512, 512),\n",
        "            nn.ReLU(),\n",
        "            nn.Linear(512, 512),\n",
        "            nn.ReLU(),\n",
        "            nn.Linear(512, output_size)\n",
        "        )\n",
        "    \n",
        "    def forward(self, x):\n",
        "        x = self.linear_relu_stack(x)\n",
        "        return x    \n",
        "\n",
        "# 모델 인스턴스 생성\n",
        "model = MultivariateLinearRegression(input_size = X_train_torch.shape[1], output_size = 1).to(device)\n",
        "print(model)"
      ],
      "metadata": {
        "colab": {
          "base_uri": "https://localhost:8080/"
        },
        "id": "M4k4bCnJzbHb",
        "outputId": "6a7d3911-9a4c-49df-ca8c-fb4f636bbd69"
      },
      "execution_count": null,
      "outputs": [
        {
          "output_type": "stream",
          "name": "stdout",
          "text": [
            "MultivariateLinearRegression(\n",
            "  (linear_relu_stack): Sequential(\n",
            "    (0): Linear(in_features=8, out_features=512, bias=True)\n",
            "    (1): ReLU()\n",
            "    (2): Linear(in_features=512, out_features=512, bias=True)\n",
            "    (3): ReLU()\n",
            "    (4): Linear(in_features=512, out_features=512, bias=True)\n",
            "    (5): ReLU()\n",
            "    (6): Linear(in_features=512, out_features=1, bias=True)\n",
            "  )\n",
            ")\n"
          ]
        }
      ]
    },
    {
      "cell_type": "code",
      "source": [
        "# 손실 함수 및 최적화 알고리즘 설정\n",
        "criterion = nn.MSELoss()\n",
        "optimizer = torch.optim.Adam(model.parameters(), lr=1e-3)"
      ],
      "metadata": {
        "id": "mP_UjT--zf-1"
      },
      "execution_count": null,
      "outputs": []
    },
    {
      "cell_type": "code",
      "source": [
        "num_epochs = 2000\n",
        "loss_list = []\n",
        "for epoch in range(num_epochs+1):\n",
        "    y_pred = model(X_train_torch)\n",
        "    loss = criterion(y_train_torch, y_pred)\n",
        "\n",
        "    # 역전파\n",
        "    optimizer.zero_grad()\n",
        "    loss.backward()\n",
        "    optimizer.step()\n",
        "\n",
        "    # loss_list 시각화나 로그를 확인해 보기 위해 사용\n",
        "    loss_list.append(loss.item())\n",
        "    if (epoch + 1) % 100 == 0:\n",
        "        print(f\"epoch:{epoch}, loss:{loss.item()}\")"
      ],
      "metadata": {
        "colab": {
          "base_uri": "https://localhost:8080/"
        },
        "id": "0d5kY9Sfzwml",
        "outputId": "bc758c4e-7813-4a31-806d-2e1629213c6d"
      },
      "execution_count": null,
      "outputs": [
        {
          "output_type": "stream",
          "name": "stdout",
          "text": [
            "epoch:99, loss:35.93217468261719\n",
            "epoch:199, loss:20.31829833984375\n",
            "epoch:299, loss:15.828389167785645\n",
            "epoch:399, loss:13.825943946838379\n",
            "epoch:499, loss:15.564091682434082\n",
            "epoch:599, loss:17.81136131286621\n",
            "epoch:699, loss:11.254356384277344\n",
            "epoch:799, loss:13.500243186950684\n",
            "epoch:899, loss:9.0852632522583\n",
            "epoch:999, loss:8.440771102905273\n",
            "epoch:1099, loss:7.870728015899658\n",
            "epoch:1199, loss:7.616580009460449\n",
            "epoch:1299, loss:7.9311909675598145\n",
            "epoch:1399, loss:6.776110649108887\n",
            "epoch:1499, loss:5.8997368812561035\n",
            "epoch:1599, loss:12.891745567321777\n",
            "epoch:1699, loss:4.9264397621154785\n",
            "epoch:1799, loss:6.729858875274658\n",
            "epoch:1899, loss:3.914307117462158\n",
            "epoch:1999, loss:5.847663402557373\n"
          ]
        }
      ]
    },
    {
      "cell_type": "code",
      "source": [
        "pd.Series(loss_list).plot()"
      ],
      "metadata": {
        "colab": {
          "base_uri": "https://localhost:8080/",
          "height": 448
        },
        "id": "v3oJz1VPzyJK",
        "outputId": "f554708b-908f-4356-f3b2-e0c71ffd81b8"
      },
      "execution_count": null,
      "outputs": [
        {
          "output_type": "execute_result",
          "data": {
            "text/plain": [
              "<Axes: >"
            ]
          },
          "metadata": {},
          "execution_count": 84
        },
        {
          "output_type": "display_data",
          "data": {
            "text/plain": [
              "<Figure size 640x480 with 1 Axes>"
            ],
            "image/png": "[encoded data removed]"
          },
          "metadata": {}
        }
      ]
    },
    {
      "cell_type": "code",
      "source": [
        "# 검증 데이터에 대한 예측 결과 출력\n",
        "with torch.no_grad():\n",
        "    y_valid_pred = model(X_valid_t.to(device))\n",
        "    print(f'val_loss : {criterion(y_valid_t.to(device), y_valid_pred.to(device)).item()}')\n",
        "\n",
        "from sklearn.metrics import mean_squared_error\n",
        "\n",
        "mse = mean_squared_error(y_valid_t.cpu().numpy(), y_valid_pred.cpu().numpy())\n",
        "rmse = np.sqrt(mse)\n",
        "rmse"
      ],
      "metadata": {
        "colab": {
          "base_uri": "https://localhost:8080/"
        },
        "id": "YsFxlrZXz30E",
        "outputId": "cf40578e-872b-4746-a947-4b4f2bb10dad"
      },
      "execution_count": null,
      "outputs": [
        {
          "output_type": "stream",
          "name": "stdout",
          "text": [
            "val_loss : 3.105278730392456\n"
          ]
        },
        {
          "output_type": "execute_result",
          "data": {
            "text/plain": [
              "1.7621801"
            ]
          },
          "metadata": {},
          "execution_count": 85
        }
      ]
    },
    {
      "cell_type": "code",
      "source": [
        "with torch.no_grad():\n",
        "    y_predict = model(X_test_t.to(device))\n",
        "y_predict.squeeze().shape"
      ],
      "metadata": {
        "colab": {
          "base_uri": "https://localhost:8080/"
        },
        "id": "rF8FbsSD1e1d",
        "outputId": "e3006c37-249d-44db-e06b-b84378778022"
      },
      "execution_count": null,
      "outputs": [
        {
          "output_type": "execute_result",
          "data": {
            "text/plain": [
              "torch.Size([7500])"
            ]
          },
          "metadata": {},
          "execution_count": 86
        }
      ]
    },
    {
      "cell_type": "code",
      "source": [
        "submission = pd.read_csv('/content/sample_submission.csv', index_col = 'ID')\n",
        "submission[\"Calories_Burned\"] = y_predict.cpu().numpy()\n",
        "\n",
        "file_name = f'./sub_{rmse:.5f}.csv'\n",
        "submission.to_csv(file_name)\n",
        "pd.read_csv(file_name, index_col=\"ID\").head(2)"
      ],
      "metadata": {
        "colab": {
          "base_uri": "https://localhost:8080/",
          "height": 143
        },
        "id": "G--KFwVb1dO-",
        "outputId": "b4f3a4bc-6816-404c-d94e-26605f46a187"
      },
      "execution_count": null,
      "outputs": [
        {
          "output_type": "execute_result",
          "data": {
            "text/plain": [
              "           Calories_Burned\n",
              "ID                        \n",
              "TEST_0000        172.55002\n",
              "TEST_0001        191.43033"
            ],
            "text/html": [
              "\n",
              "  <div id=\"df-de6ccd13-6537-4fa4-9584-4f35478621ad\">\n",
              "    <div class=\"colab-df-container\">\n",
              "      <div>\n",
              "<style scoped>\n",
              "    .dataframe tbody tr th:only-of-type {\n",
              "        vertical-align: middle;\n",
              "    }\n",
              "\n",
              "    .dataframe tbody tr th {\n",
              "        vertical-align: top;\n",
              "    }\n",
              "\n",
              "    .dataframe thead th {\n",
              "        text-align: right;\n",
              "    }\n",
              "</style>\n",
              "<table border=\"1\" class=\"dataframe\">\n",
              "  <thead>\n",
              "    <tr style=\"text-align: right;\">\n",
              "      <th></th>\n",
              "      <th>Calories_Burned</th>\n",
              "    </tr>\n",
              "    <tr>\n",
              "      <th>ID</th>\n",
              "      <th></th>\n",
              "    </tr>\n",
              "  </thead>\n",
              "  <tbody>\n",
              "    <tr>\n",
              "      <th>TEST_0000</th>\n",
              "      <td>172.55002</td>\n",
              "    </tr>\n",
              "    <tr>\n",
              "      <th>TEST_0001</th>\n",
              "      <td>191.43033</td>\n",
              "    </tr>\n",
              "  </tbody>\n",
              "</table>\n",
              "</div>\n",
              "      <button class=\"colab-df-convert\" onclick=\"convertToInteractive('df-de6ccd13-6537-4fa4-9584-4f35478621ad')\"\n",
              "              title=\"Convert this dataframe to an interactive table.\"\n",
              "              style=\"display:none;\">\n",
              "        \n",
              "  <svg xmlns=\"http://www.w3.org/2000/svg\" height=\"24px\"viewBox=\"0 0 24 24\"\n",
              "       width=\"24px\">\n",
              "    <path d=\"M0 0h24v24H0V0z\" fill=\"none\"/>\n",
              "    <path d=\"M18.56 5.44l.94 2.06.94-2.06 2.06-.94-2.06-.94-.94-2.06-.94 2.06-2.06.94zm-11 1L8.5 8.5l.94-2.06 2.06-.94-2.06-.94L8.5 2.5l-.94 2.06-2.06.94zm10 10l.94 2.06.94-2.06 2.06-.94-2.06-.94-.94-2.06-.94 2.06-2.06.94z\"/><path d=\"M17.41 7.96l-1.37-1.37c-.4-.4-.92-.59-1.43-.59-.52 0-1.04.2-1.43.59L10.3 9.45l-7.72 7.72c-.78.78-.78 2.05 0 2.83L4 21.41c.39.39.9.59 1.41.59.51 0 1.02-.2 1.41-.59l7.78-7.78 2.81-2.81c.8-.78.8-2.07 0-2.86zM5.41 20L4 18.59l7.72-7.72 1.47 1.35L5.41 20z\"/>\n",
              "  </svg>\n",
              "      </button>\n",
              "      \n",
              "  <style>\n",
              "    .colab-df-container {\n",
              "      display:flex;\n",
              "      flex-wrap:wrap;\n",
              "      gap: 12px;\n",
              "    }\n",
              "\n",
              "    .colab-df-convert {\n",
              "      background-color: #E8F0FE;\n",
              "      border: none;\n",
              "      border-radius: 50%;\n",
              "      cursor: pointer;\n",
              "      display: none;\n",
              "      fill: #1967D2;\n",
              "      height: 32px;\n",
              "      padding: 0 0 0 0;\n",
              "      width: 32px;\n",
              "    }\n",
              "\n",
              "    .colab-df-convert:hover {\n",
              "      background-color: #E2EBFA;\n",
              "      box-shadow: 0px 1px 2px rgba(60, 64, 67, 0.3), 0px 1px 3px 1px rgba(60, 64, 67, 0.15);\n",
              "      fill: #174EA6;\n",
              "    }\n",
              "\n",
              "    [theme=dark] .colab-df-convert {\n",
              "      background-color: #3B4455;\n",
              "      fill: #D2E3FC;\n",
              "    }\n",
              "\n",
              "    [theme=dark] .colab-df-convert:hover {\n",
              "      background-color: #434B5C;\n",
              "      box-shadow: 0px 1px 3px 1px rgba(0, 0, 0, 0.15);\n",
              "      filter: drop-shadow(0px 1px 2px rgba(0, 0, 0, 0.3));\n",
              "      fill: #FFFFFF;\n",
              "    }\n",
              "  </style>\n",
              "\n",
              "      <script>\n",
              "        const buttonEl =\n",
              "          document.querySelector('#df-de6ccd13-6537-4fa4-9584-4f35478621ad button.colab-df-convert');\n",
              "        buttonEl.style.display =\n",
              "          google.colab.kernel.accessAllowed ? 'block' : 'none';\n",
              "\n",
              "        async function convertToInteractive(key) {\n",
              "          const element = document.querySelector('#df-de6ccd13-6537-4fa4-9584-4f35478621ad');\n",
              "          const dataTable =\n",
              "            await google.colab.kernel.invokeFunction('convertToInteractive',\n",
              "                                                     [key], {});\n",
              "          if (!dataTable) return;\n",
              "\n",
              "          const docLinkHtml = 'Like what you see? Visit the ' +\n",
              "            '<a target=\"_blank\" href=https://colab.research.google.com/notebooks/data_table.ipynb>data table notebook</a>'\n",
              "            + ' to learn more about interactive tables.';\n",
              "          element.innerHTML = '';\n",
              "          dataTable['output_type'] = 'display_data';\n",
              "          await google.colab.output.renderOutput(dataTable, element);\n",
              "          const docLink = document.createElement('div');\n",
              "          docLink.innerHTML = docLinkHtml;\n",
              "          element.appendChild(docLink);\n",
              "        }\n",
              "      </script>\n",
              "    </div>\n",
              "  </div>\n",
              "  "
            ]
          },
          "metadata": {},
          "execution_count": 87
        }
      ]
    },
    {
      "cell_type": "markdown",
      "source": [
        "1.8739456763"
      ],
      "metadata": {
        "id": "kU25S8Bz1xRu"
      }
    },
    {
      "cell_type": "markdown",
      "source": [
        "### 제발 좀 어떻게든 올랐으면"
      ],
      "metadata": {
        "id": "hx62hcGZ1415"
      }
    },
    {
      "cell_type": "code",
      "source": [
        "# torch, nn, optim import \n",
        "import torch\n",
        "import torch.nn as nn\n",
        "\n",
        "import torch.optim as optim"
      ],
      "metadata": {
        "id": "DKWdGEWR1jZB"
      },
      "execution_count": null,
      "outputs": []
    },
    {
      "cell_type": "code",
      "source": [
        "# Multivariate Linear Regression 모델 구현\n",
        "# 모델 인스턴스 생성\n",
        "# 손실 함수 및 최적화 알고리즘 설정\n",
        "class MultivariateLinearRegression(nn.Module):\n",
        "    def __init__(self, input_size, output_size):\n",
        "        super(MultivariateLinearRegression, self).__init__()\n",
        "        self.linear_relu_stack = nn.Sequential(\n",
        "            nn.Linear(input_size, 512),\n",
        "            nn.ReLU(),\n",
        "            nn.Linear(512, 512),\n",
        "            nn.ReLU(),\n",
        "            nn.Linear(512, 512),\n",
        "            nn.ReLU(),\n",
        "            nn.Linear(512, 218),\n",
        "            nn.ReLU(),\n",
        "            nn.Linear(218, output_size)\n",
        "        )\n",
        "    \n",
        "    def forward(self, x):\n",
        "        x = self.linear_relu_stack(x)\n",
        "        return x    \n",
        "\n",
        "# 모델 인스턴스 생성\n",
        "model = MultivariateLinearRegression(input_size = X_train_torch.shape[1], output_size = 1).to(device)\n",
        "print(model)"
      ],
      "metadata": {
        "colab": {
          "base_uri": "https://localhost:8080/"
        },
        "id": "BFjmxXmy172f",
        "outputId": "ef6d8124-1b3e-49fe-dc0e-fce54a00f511"
      },
      "execution_count": null,
      "outputs": [
        {
          "output_type": "stream",
          "name": "stdout",
          "text": [
            "MultivariateLinearRegression(\n",
            "  (linear_relu_stack): Sequential(\n",
            "    (0): Linear(in_features=8, out_features=512, bias=True)\n",
            "    (1): ReLU()\n",
            "    (2): Linear(in_features=512, out_features=512, bias=True)\n",
            "    (3): ReLU()\n",
            "    (4): Linear(in_features=512, out_features=512, bias=True)\n",
            "    (5): ReLU()\n",
            "    (6): Linear(in_features=512, out_features=218, bias=True)\n",
            "    (7): ReLU()\n",
            "    (8): Linear(in_features=218, out_features=1, bias=True)\n",
            "  )\n",
            ")\n"
          ]
        }
      ]
    },
    {
      "cell_type": "code",
      "source": [
        "# 손실 함수 및 최적화 알고리즘 설정\n",
        "criterion = nn.MSELoss()\n",
        "optimizer = torch.optim.Adam(model.parameters(), lr=1e-3)"
      ],
      "metadata": {
        "id": "33pZHzDl1_9d"
      },
      "execution_count": null,
      "outputs": []
    },
    {
      "cell_type": "code",
      "source": [
        "num_epochs = 2000\n",
        "loss_list = []\n",
        "for epoch in range(num_epochs+1):\n",
        "    y_pred = model(X_train_torch)\n",
        "    loss = criterion(y_train_torch, y_pred)\n",
        "\n",
        "    # 역전파\n",
        "    optimizer.zero_grad()\n",
        "    loss.backward()\n",
        "    optimizer.step()\n",
        "\n",
        "    # loss_list 시각화나 로그를 확인해 보기 위해 사용\n",
        "    loss_list.append(loss.item())\n",
        "    if (epoch + 1) % 100 == 0:\n",
        "        print(f\"epoch:{epoch}, loss:{loss.item()}\")"
      ],
      "metadata": {
        "colab": {
          "base_uri": "https://localhost:8080/"
        },
        "id": "37Id1xGt2DT3",
        "outputId": "0dea9c09-0ffe-4ac9-9c75-f8ff210a67bd"
      },
      "execution_count": null,
      "outputs": [
        {
          "output_type": "stream",
          "name": "stdout",
          "text": [
            "epoch:99, loss:39.59432601928711\n",
            "epoch:199, loss:17.73920440673828\n",
            "epoch:299, loss:16.75885772705078\n",
            "epoch:399, loss:17.245542526245117\n",
            "epoch:499, loss:11.982308387756348\n",
            "epoch:599, loss:15.812089920043945\n",
            "epoch:699, loss:11.387480735778809\n",
            "epoch:799, loss:10.624048233032227\n",
            "epoch:899, loss:11.133645057678223\n",
            "epoch:999, loss:12.179732322692871\n",
            "epoch:1099, loss:9.035482406616211\n",
            "epoch:1199, loss:10.051697731018066\n",
            "epoch:1299, loss:7.840219497680664\n",
            "epoch:1399, loss:9.683320045471191\n",
            "epoch:1499, loss:5.830190181732178\n",
            "epoch:1599, loss:9.875177383422852\n",
            "epoch:1699, loss:4.381110668182373\n",
            "epoch:1799, loss:10.416583061218262\n",
            "epoch:1899, loss:7.8518242835998535\n",
            "epoch:1999, loss:94.3112564086914\n"
          ]
        }
      ]
    },
    {
      "cell_type": "code",
      "source": [
        "# 검증 데이터에 대한 예측 결과 출력\n",
        "with torch.no_grad():\n",
        "    y_valid_pred = model(X_valid_t.to(device))\n",
        "    print(f'val_loss : {criterion(y_valid_t.to(device), y_valid_pred.to(device)).item()}')\n",
        "\n",
        "from sklearn.metrics import mean_squared_error\n",
        "\n",
        "mse = mean_squared_error(y_valid_t.cpu().numpy(), y_valid_pred.cpu().numpy())\n",
        "rmse = np.sqrt(mse)\n",
        "rmse"
      ],
      "metadata": {
        "colab": {
          "base_uri": "https://localhost:8080/"
        },
        "id": "N7HGGeFe2K0R",
        "outputId": "3eaea446-78f6-4c32-e020-556534573d5d"
      },
      "execution_count": null,
      "outputs": [
        {
          "output_type": "stream",
          "name": "stdout",
          "text": [
            "val_loss : 16.904539108276367\n"
          ]
        },
        {
          "output_type": "execute_result",
          "data": {
            "text/plain": [
              "4.111513"
            ]
          },
          "metadata": {},
          "execution_count": 92
        }
      ]
    },
    {
      "cell_type": "code",
      "source": [
        "with torch.no_grad():\n",
        "    y_predict = model(X_test_t.to(device))\n",
        "y_predict.squeeze().shape"
      ],
      "metadata": {
        "colab": {
          "base_uri": "https://localhost:8080/"
        },
        "id": "AHp7mlI92LIc",
        "outputId": "7d376b2c-75e5-491c-eceb-00d79b24b683"
      },
      "execution_count": null,
      "outputs": [
        {
          "output_type": "execute_result",
          "data": {
            "text/plain": [
              "torch.Size([7500])"
            ]
          },
          "metadata": {},
          "execution_count": 93
        }
      ]
    },
    {
      "cell_type": "code",
      "source": [
        "\n",
        "submission = pd.read_csv('/content/sample_submission.csv', index_col = 'ID')\n",
        "submission[\"Calories_Burned\"] = y_predict.cpu().numpy()\n",
        "\n",
        "file_name = f'./sub_{rmse:.5f}.csv'\n",
        "submission.to_csv(file_name)\n",
        "pd.read_csv(file_name, index_col=\"ID\").head(2)"
      ],
      "metadata": {
        "colab": {
          "base_uri": "https://localhost:8080/",
          "height": 143
        },
        "id": "xTMIfvy32Oi2",
        "outputId": "a39ef2fc-4eea-43cc-c2f4-5c508423a160"
      },
      "execution_count": null,
      "outputs": [
        {
          "output_type": "execute_result",
          "data": {
            "text/plain": [
              "           Calories_Burned\n",
              "ID                        \n",
              "TEST_0000        177.87940\n",
              "TEST_0001        190.87634"
            ],
            "text/html": [
              "\n",
              "  <div id=\"df-c721885b-9a16-4486-a493-136a31f6fb62\">\n",
              "    <div class=\"colab-df-container\">\n",
              "      <div>\n",
              "<style scoped>\n",
              "    .dataframe tbody tr th:only-of-type {\n",
              "        vertical-align: middle;\n",
              "    }\n",
              "\n",
              "    .dataframe tbody tr th {\n",
              "        vertical-align: top;\n",
              "    }\n",
              "\n",
              "    .dataframe thead th {\n",
              "        text-align: right;\n",
              "    }\n",
              "</style>\n",
              "<table border=\"1\" class=\"dataframe\">\n",
              "  <thead>\n",
              "    <tr style=\"text-align: right;\">\n",
              "      <th></th>\n",
              "      <th>Calories_Burned</th>\n",
              "    </tr>\n",
              "    <tr>\n",
              "      <th>ID</th>\n",
              "      <th></th>\n",
              "    </tr>\n",
              "  </thead>\n",
              "  <tbody>\n",
              "    <tr>\n",
              "      <th>TEST_0000</th>\n",
              "      <td>177.87940</td>\n",
              "    </tr>\n",
              "    <tr>\n",
              "      <th>TEST_0001</th>\n",
              "      <td>190.87634</td>\n",
              "    </tr>\n",
              "  </tbody>\n",
              "</table>\n",
              "</div>\n",
              "      <button class=\"colab-df-convert\" onclick=\"convertToInteractive('df-c721885b-9a16-4486-a493-136a31f6fb62')\"\n",
              "              title=\"Convert this dataframe to an interactive table.\"\n",
              "              style=\"display:none;\">\n",
              "        \n",
              "  <svg xmlns=\"http://www.w3.org/2000/svg\" height=\"24px\"viewBox=\"0 0 24 24\"\n",
              "       width=\"24px\">\n",
              "    <path d=\"M0 0h24v24H0V0z\" fill=\"none\"/>\n",
              "    <path d=\"M18.56 5.44l.94 2.06.94-2.06 2.06-.94-2.06-.94-.94-2.06-.94 2.06-2.06.94zm-11 1L8.5 8.5l.94-2.06 2.06-.94-2.06-.94L8.5 2.5l-.94 2.06-2.06.94zm10 10l.94 2.06.94-2.06 2.06-.94-2.06-.94-.94-2.06-.94 2.06-2.06.94z\"/><path d=\"M17.41 7.96l-1.37-1.37c-.4-.4-.92-.59-1.43-.59-.52 0-1.04.2-1.43.59L10.3 9.45l-7.72 7.72c-.78.78-.78 2.05 0 2.83L4 21.41c.39.39.9.59 1.41.59.51 0 1.02-.2 1.41-.59l7.78-7.78 2.81-2.81c.8-.78.8-2.07 0-2.86zM5.41 20L4 18.59l7.72-7.72 1.47 1.35L5.41 20z\"/>\n",
              "  </svg>\n",
              "      </button>\n",
              "      \n",
              "  <style>\n",
              "    .colab-df-container {\n",
              "      display:flex;\n",
              "      flex-wrap:wrap;\n",
              "      gap: 12px;\n",
              "    }\n",
              "\n",
              "    .colab-df-convert {\n",
              "      background-color: #E8F0FE;\n",
              "      border: none;\n",
              "      border-radius: 50%;\n",
              "      cursor: pointer;\n",
              "      display: none;\n",
              "      fill: #1967D2;\n",
              "      height: 32px;\n",
              "      padding: 0 0 0 0;\n",
              "      width: 32px;\n",
              "    }\n",
              "\n",
              "    .colab-df-convert:hover {\n",
              "      background-color: #E2EBFA;\n",
              "      box-shadow: 0px 1px 2px rgba(60, 64, 67, 0.3), 0px 1px 3px 1px rgba(60, 64, 67, 0.15);\n",
              "      fill: #174EA6;\n",
              "    }\n",
              "\n",
              "    [theme=dark] .colab-df-convert {\n",
              "      background-color: #3B4455;\n",
              "      fill: #D2E3FC;\n",
              "    }\n",
              "\n",
              "    [theme=dark] .colab-df-convert:hover {\n",
              "      background-color: #434B5C;\n",
              "      box-shadow: 0px 1px 3px 1px rgba(0, 0, 0, 0.15);\n",
              "      filter: drop-shadow(0px 1px 2px rgba(0, 0, 0, 0.3));\n",
              "      fill: #FFFFFF;\n",
              "    }\n",
              "  </style>\n",
              "\n",
              "      <script>\n",
              "        const buttonEl =\n",
              "          document.querySelector('#df-c721885b-9a16-4486-a493-136a31f6fb62 button.colab-df-convert');\n",
              "        buttonEl.style.display =\n",
              "          google.colab.kernel.accessAllowed ? 'block' : 'none';\n",
              "\n",
              "        async function convertToInteractive(key) {\n",
              "          const element = document.querySelector('#df-c721885b-9a16-4486-a493-136a31f6fb62');\n",
              "          const dataTable =\n",
              "            await google.colab.kernel.invokeFunction('convertToInteractive',\n",
              "                                                     [key], {});\n",
              "          if (!dataTable) return;\n",
              "\n",
              "          const docLinkHtml = 'Like what you see? Visit the ' +\n",
              "            '<a target=\"_blank\" href=https://colab.research.google.com/notebooks/data_table.ipynb>data table notebook</a>'\n",
              "            + ' to learn more about interactive tables.';\n",
              "          element.innerHTML = '';\n",
              "          dataTable['output_type'] = 'display_data';\n",
              "          await google.colab.output.renderOutput(dataTable, element);\n",
              "          const docLink = document.createElement('div');\n",
              "          docLink.innerHTML = docLinkHtml;\n",
              "          element.appendChild(docLink);\n",
              "        }\n",
              "      </script>\n",
              "    </div>\n",
              "  </div>\n",
              "  "
            ]
          },
          "metadata": {},
          "execution_count": 94
        }
      ]
    },
    {
      "cell_type": "code",
      "source": [],
      "metadata": {
        "id": "K8047jGx2QLq"
      },
      "execution_count": null,
      "outputs": []
    }
  ]
}